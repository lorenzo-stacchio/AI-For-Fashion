{
  "nbformat": 4,
  "nbformat_minor": 0,
  "metadata": {
    "colab": {
      "name": "02_Python_programming_AIF.ipynb",
      "provenance": [],
      "collapsed_sections": [],
      "toc_visible": true
    },
    "kernelspec": {
      "name": "python3",
      "display_name": "Python 3"
    },
    "language_info": {
      "name": "python"
    }
  },
  "cells": [
    {
      "cell_type": "markdown",
      "metadata": {
        "id": "SWJsHuisd-Ss"
      },
      "source": [
        "#Notebook and Google Colab introduction"
      ]
    },
    {
      "cell_type": "markdown",
      "metadata": {
        "id": "2mMrQN8cZ6Yj"
      },
      "source": [
        "<p><img alt=\"Colaboratory logo\" height=\"50px\" src=\"https://cdn3.iconfinder.com/data/icons/logos-and-brands-adobe/512/267_Python-512.png\" align=\"left\" hspace=\"5px\" vspace=\"0px\"></p>\n",
        "\n",
        "<h1>Python programming notebook</h1>\n",
        "\n",
        "This <b>Notebook</b> introduces you to the wonderful  <b>Python</b> programming language! \n",
        "\n",
        "But firstly, what is a <b>python notebook</b>?"
      ]
    },
    {
      "cell_type": "markdown",
      "metadata": {
        "id": "7Kt3F6Tnb5Kj"
      },
      "source": [
        "<p><img alt=\"Colaboratory logo\" height=\"50px\" src=\"https://upload.wikimedia.org/wikipedia/commons/thumb/3/38/Jupyter_logo.svg/1200px-Jupyter_logo.svg.png\" align=\"left\" hspace=\"5px\" vspace=\"0px\"></p>\n",
        "\n",
        "<h1>Jupyter Notebook</h1>\n",
        "\n",
        "[Jupyter Notebook](https://jupyter.org/) is a free web application that allows you to create and share documents that contain code, equations, data views and formatted text.\n",
        "\n",
        "Notebooks are very powerful both for teaching but also for software prototyping. In fact, the Notebooks of ** isolate the execution of some pieces of code ** and are therefore great for testing new code without having to re-run all the code already written!\n",
        "\n",
        "Furthermore, notebooks allow you to easily integrate different Big Data tools such as **[Apache Spark](https://spark.apache.org/) and libraries such as [pandas](https://pandas.pydata.org/), [scikit-learn](https://scikit-learn.org/stable/), [TensorFlow](https://www.tensorflow.org/), [PyTorch](https://pytorch.org/)**.\n",
        "\n",
        "However, the most useful advantage that Notebooks provide is that they can be run on a web page through **the use of Google Colaboratory**, the platform you are on right now!"
      ]
    },
    {
      "cell_type": "markdown",
      "metadata": {
        "id": "QN41DwaaaS2q"
      },
      "source": [
        "<p><img alt=\"Colaboratory logo\" height=\"45px\" src=\"/img/colab_favicon.ico\" align=\"left\" hspace=\"10px\" vspace=\"0px\"></p>\n",
        "\n",
        "<h1>What is google Colaboratory?</h1>\n",
        "\n",
        "Google Colaboratory or, for short, \"Colab\" allows you to write and execute Python code in your browser with the following advantages:\n",
        "- No configuration needed\n",
        "- Free access to GPUs\n",
        "- Simplified sharing\n",
        "\n",
        "If you are a <strong>student</strong>, <strong>data scientist</strong> or <strong>AI researcher</strong>, Colab could easy your work. Please watch <a href=\"https://www.youtube.com/watch?v=inN8seMm7UI\">this introductory video about Colab </a> for more information."
      ]
    },
    {
      "cell_type": "markdown",
      "metadata": {
        "id": "ASzEsz8GdzbU"
      },
      "source": [
        "# Our first line code in python: print(\"Hello world\")"
      ]
    },
    {
      "cell_type": "code",
      "metadata": {
        "colab": {
          "base_uri": "https://localhost:8080/"
        },
        "id": "bxOycP9dZ28a",
        "outputId": "aca45b4c-6211-46e3-c6f3-f18b31f9dbd2"
      },
      "source": [
        "# This is a comment. You can use it to remind you what you did a line of code for or what you want to get out of it.\n",
        "# You can even comment on multiple lines this way!\n",
        "# Let's write our first line of code!\n",
        "\n",
        "print(\"Hello World\") # print the string \"Hello World Lorenzo\" on the screen"
      ],
      "execution_count": null,
      "outputs": [
        {
          "output_type": "stream",
          "name": "stdout",
          "text": [
            "Hello World\n"
          ]
        }
      ]
    },
    {
      "cell_type": "markdown",
      "metadata": {
        "id": "BYLQXDfOsbo6"
      },
      "source": [
        "# Variables, values and types"
      ]
    },
    {
      "cell_type": "markdown",
      "metadata": {
        "id": "ptuHY_t0BoJm"
      },
      "source": [
        "## Values and types"
      ]
    },
    {
      "cell_type": "code",
      "metadata": {
        "colab": {
          "base_uri": "https://localhost:8080/"
        },
        "id": "tTEZsc9ABskk",
        "outputId": "7a69bc9f-7615-4f1d-8b8f-a3c19db0e385"
      },
      "source": [
        "# The type method allows you to identify the type of a certain value\n",
        "print(type (\"Hello World\")) # string type value\n",
        "\n",
        "print(type (2)) # numeric type value: integer\n",
        "\n",
        "print(type (3.4)) # numeric type value: float\n",
        "\n",
        "print(type(2 + 2)) # adding two integers always generates an integer"
      ],
      "execution_count": null,
      "outputs": [
        {
          "output_type": "stream",
          "name": "stdout",
          "text": [
            "<class 'str'>\n",
            "<class 'int'>\n",
            "<class 'float'>\n",
            "<class 'int'>\n"
          ]
        }
      ]
    },
    {
      "cell_type": "code",
      "metadata": {
        "colab": {
          "base_uri": "https://localhost:8080/"
        },
        "id": "zRQFpbfpC50j",
        "outputId": "13c4031c-5559-418e-8e32-e8f5d5a07f19"
      },
      "source": [
        "# Implicit casting\n",
        "\n",
        "print(2 + 3.4) # 5.5\n",
        "\n",
        "print(type(2 + 3.4)) # adding an integer and a float always results in a float\n",
        "\n",
        "# Explicit casting\n",
        "\n",
        "print(int(2 + 3.4)) # the sum between an integer and a float always generates a float unless we ask to take only the integer part\n",
        "\n",
        "print(type(int (2 + 3.4)))"
      ],
      "execution_count": null,
      "outputs": [
        {
          "output_type": "stream",
          "name": "stdout",
          "text": [
            "5.4\n",
            "<class 'float'>\n",
            "5\n",
            "<class 'int'>\n"
          ]
        }
      ]
    },
    {
      "cell_type": "markdown",
      "metadata": {
        "id": "eo30hRrFnvdF"
      },
      "source": [
        "## Variables"
      ]
    },
    {
      "cell_type": "code",
      "metadata": {
        "colab": {
          "base_uri": "https://localhost:8080/"
        },
        "id": "UeYZriAVGgcH",
        "outputId": "b4276ce3-ae38-4dad-f9bf-cb5ce278d481"
      },
      "source": [
        "name = \"Lorenzo\" # I assign the value Lorenzo to the variable name\n",
        "pi = 3.14\n",
        "eulero = 2.71\n",
        "\n",
        "print(name, type(name)) # string\n",
        "print(pi, type(pi)) # float\n",
        "print(eulero, type(eulero)) # float"
      ],
      "execution_count": null,
      "outputs": [
        {
          "output_type": "stream",
          "name": "stdout",
          "text": [
            "Lorenzo <class 'str'>\n",
            "3.14 <class 'float'>\n",
            "2.71 <class 'float'>\n"
          ]
        }
      ]
    },
    {
      "cell_type": "code",
      "metadata": {
        "colab": {
          "base_uri": "https://localhost:8080/"
        },
        "id": "r-nqY3liHZxT",
        "outputId": "d12279be-8214-4f74-c877-ce2d0b0b9c0b"
      },
      "source": [
        "# Dynamic typing\n",
        "\n",
        "name = 2 # assign again the variable name with value 2\n",
        "\n",
        "print(name, type(name)) # tipo intero"
      ],
      "execution_count": null,
      "outputs": [
        {
          "output_type": "stream",
          "name": "stdout",
          "text": [
            "2 <class 'int'>\n"
          ]
        }
      ]
    },
    {
      "cell_type": "code",
      "metadata": {
        "colab": {
          "base_uri": "https://localhost:8080/"
        },
        "id": "P_uBk9GwG6MD",
        "outputId": "dfe637ee-3839-44d7-8755-ab193f61f9ab"
      },
      "source": [
        "# Snake_case notation is used to assign multi-word variable names. You can use others as well but this is the official Python one.\n",
        "\n",
        "variable_name_with_many_words = \"boomer\"\n",
        "\n",
        "print(variable_name_with_many_words, type(variable_name_with_many_words))"
      ],
      "execution_count": null,
      "outputs": [
        {
          "output_type": "stream",
          "name": "stdout",
          "text": [
            "boomer <class 'str'>\n"
          ]
        }
      ]
    },
    {
      "cell_type": "code",
      "metadata": {
        "colab": {
          "base_uri": "https://localhost:8080/"
        },
        "id": "5wwx9qcyH-gg",
        "outputId": "b883c020-4049-48a0-e81b-48215cba2e55"
      },
      "source": [
        "# Sum between pi and euler\n",
        "\n",
        "pi_somma_eulero = pi + eulero\n",
        "\n",
        "print(pi_somma_eulero,type(pi_somma_eulero))"
      ],
      "execution_count": null,
      "outputs": [
        {
          "output_type": "stream",
          "name": "stdout",
          "text": [
            "5.85 <class 'float'>\n"
          ]
        }
      ]
    },
    {
      "cell_type": "code",
      "metadata": {
        "colab": {
          "base_uri": "https://localhost:8080/",
          "height": 206
        },
        "id": "3kvetmskl25Y",
        "outputId": "523f663b-478a-4170-f1b3-3a08c2a7f500"
      },
      "source": [
        "# You can clear a variable from memory with the del command\n",
        "\n",
        "del pi_somma_eulero\n",
        "\n",
        "print(pi_somma_eulero) # Error"
      ],
      "execution_count": null,
      "outputs": [
        {
          "output_type": "error",
          "ename": "NameError",
          "evalue": "ignored",
          "traceback": [
            "\u001b[0;31m---------------------------------------------------------------------------\u001b[0m",
            "\u001b[0;31mNameError\u001b[0m                                 Traceback (most recent call last)",
            "\u001b[0;32m<ipython-input-8-8b756c02a16f>\u001b[0m in \u001b[0;36m<module>\u001b[0;34m()\u001b[0m\n\u001b[1;32m      3\u001b[0m \u001b[0;32mdel\u001b[0m \u001b[0mpi_somma_eulero\u001b[0m\u001b[0;34m\u001b[0m\u001b[0;34m\u001b[0m\u001b[0m\n\u001b[1;32m      4\u001b[0m \u001b[0;34m\u001b[0m\u001b[0m\n\u001b[0;32m----> 5\u001b[0;31m \u001b[0mprint\u001b[0m\u001b[0;34m(\u001b[0m\u001b[0mpi_somma_eulero\u001b[0m\u001b[0;34m)\u001b[0m \u001b[0;31m# Error\u001b[0m\u001b[0;34m\u001b[0m\u001b[0;34m\u001b[0m\u001b[0m\n\u001b[0m",
            "\u001b[0;31mNameError\u001b[0m: name 'pi_somma_eulero' is not defined"
          ]
        }
      ]
    },
    {
      "cell_type": "markdown",
      "metadata": {
        "id": "y77I9crPKb4L"
      },
      "source": [
        "## Expression evaluation and composition\n",
        "\n"
      ]
    },
    {
      "cell_type": "code",
      "metadata": {
        "id": "BN2yNwQ5KbS-"
      },
      "source": [
        "hundred = 100\n",
        "five = 5\n",
        "six = 6"
      ],
      "execution_count": null,
      "outputs": []
    },
    {
      "cell_type": "code",
      "metadata": {
        "colab": {
          "base_uri": "https://localhost:8080/"
        },
        "id": "SnNCnq1QK95y",
        "outputId": "c39e5932-849d-4bff-9aad-ba5aafb0208b"
      },
      "source": [
        "# Moltiplicazioni e divisioni\n",
        "print(hundred*five/six) # 83.33"
      ],
      "execution_count": null,
      "outputs": [
        {
          "output_type": "stream",
          "name": "stdout",
          "text": [
            "83.33333333333333\n",
            "83.33333333333334\n"
          ]
        }
      ]
    },
    {
      "cell_type": "code",
      "source": [
        "print(hundred/six*five) # cosa succede al risultato?"
      ],
      "metadata": {
        "id": "FJxm7vXPX97h"
      },
      "execution_count": null,
      "outputs": []
    },
    {
      "cell_type": "code",
      "metadata": {
        "colab": {
          "base_uri": "https://localhost:8080/"
        },
        "id": "r_xIXDsWK98y",
        "outputId": "b3589b8b-4e19-4b39-da46-f2c2f5527393"
      },
      "source": [
        "# Grazie alla priorità anche questo risultato non cambia\n",
        "print(hundred+six*five)\n",
        "print(hundred+five*six)\n",
        "\n",
        "# Se usiamo le parentesi si\n",
        "print((hundred+five)*six)\n"
      ],
      "execution_count": null,
      "outputs": [
        {
          "output_type": "stream",
          "name": "stdout",
          "text": [
            "130\n",
            "130\n",
            "630\n"
          ]
        }
      ]
    },
    {
      "cell_type": "markdown",
      "metadata": {
        "id": "dWlzhzuH-SMI"
      },
      "source": [
        "## Operatore modulo\n",
        "\n",
        "L'operatore `%` è un operatore molto utile poichè ci consente di avere il resto della divisione intera tra due operandi!"
      ]
    },
    {
      "cell_type": "code",
      "metadata": {
        "colab": {
          "base_uri": "https://localhost:8080/"
        },
        "id": "H1ba9_Q9-TeS",
        "outputId": "dc4feb98-8574-4e4e-956e-f592319b4ce8"
      },
      "source": [
        "print(5%3) # the integer remainder between 5 and 3 is equal to 2\n",
        "\n",
        "print(4%3) # the integer remainder between 4 and 3 is equal to 1\n",
        "\n",
        "print(3%3) # the integer remainder between 3 and 3 is equal to 0\n",
        "\n",
        "print(1%3) # the integer remainder between 1 and 3 is equal to 3"
      ],
      "execution_count": null,
      "outputs": [
        {
          "output_type": "stream",
          "name": "stdout",
          "text": [
            "2\n",
            "1\n",
            "0\n",
            "1\n"
          ]
        }
      ]
    },
    {
      "cell_type": "markdown",
      "metadata": {
        "id": "bhPaKOrBPujr"
      },
      "source": [
        "## Many of the instructions we have seen are actually compisitions\n",
        "\n",
        "```\n",
        "print(hundred/six*five) # is a composition\n",
        "```\n",
        "\n",
        "\n",
        "Order of operations:\n",
        "1. hundred/six\n",
        "2. result of (1.) is multiplied by 5\n",
        "3. print the result of (2.)\n"
      ]
    },
    {
      "cell_type": "markdown",
      "metadata": {
        "id": "Pgeli4qHpS_H"
      },
      "source": [
        "# Boolean operators\n",
        "\n",
        "The fundamental operators are:\n",
        "\n",
        "\n",
        "*   ``` and ```\n",
        "*  ``` or ```\n",
        "*  ``` not ```\n",
        "\n",
        "\n"
      ]
    },
    {
      "cell_type": "code",
      "metadata": {
        "colab": {
          "base_uri": "https://localhost:8080/"
        },
        "id": "jMzrT8nBpVDd",
        "outputId": "fd50a897-509d-4c4b-e95c-02b2ce86b8a0"
      },
      "source": [
        "today_rains = True\n",
        "\n",
        "I_wear_blue_shirt = False\n",
        "\n",
        "Im_doing_a_course = True\n",
        "\n",
        "\n",
        "today_rains_and_I_wear_blue_shirt = today_rains and I_wear_blue_shirt\n",
        "\n",
        "today_rains_OR_im_doing_a_course = today_rains or Im_doing_a_course\n",
        "\n",
        "I_dont_wear_a_blue_shirt = not (I_wear_blue_shirt)\n",
        "\n",
        "\n",
        "print(\"Is it true that today it rains and I have a blue shirt?\",today_rains_and_I_wear_blue_shirt)\n",
        "\n",
        "print(\"Is it true that it's raining today or am I taking a course?\",today_rains_OR_im_doing_a_course)\n",
        "\n",
        "print(\"Is it true that I don't have a blue shirt?\", I_dont_wear_a_blue_shirt)"
      ],
      "execution_count": null,
      "outputs": [
        {
          "output_type": "stream",
          "name": "stdout",
          "text": [
            "Is it true that today it rains and I have a blue shirt? False\n",
            "Is it true that it's raining today or am I taking a course? True\n",
            "Is it true that I don't have a blue shirt? True\n"
          ]
        }
      ]
    },
    {
      "cell_type": "markdown",
      "source": [
        "## Mathematical boolean operator\n",
        "\n",
        "We could use the following operators to compare numbers:\n",
        "*   ``` > ```\n",
        "*   ``` >= ```\n",
        "*  ``` == ```\n",
        "*   ``` <= ```\n",
        "*   ``` < ```\n"
      ],
      "metadata": {
        "id": "UFUPdgnxLDiy"
      }
    },
    {
      "cell_type": "code",
      "source": [
        "print(5<2)\n",
        "print(5>2)"
      ],
      "metadata": {
        "colab": {
          "base_uri": "https://localhost:8080/"
        },
        "id": "w8QZcHabLFt4",
        "outputId": "fe488f5a-aa39-4eb8-8606-778c2e8fb0e3"
      },
      "execution_count": null,
      "outputs": [
        {
          "output_type": "stream",
          "name": "stdout",
          "text": [
            "False\n",
            "True\n"
          ]
        }
      ]
    },
    {
      "cell_type": "markdown",
      "metadata": {
        "id": "3kcRyJSEzEHH"
      },
      "source": [
        "## False in python "
      ]
    },
    {
      "cell_type": "code",
      "metadata": {
        "colab": {
          "base_uri": "https://localhost:8080/"
        },
        "id": "F0c_Rg-XzDl4",
        "outputId": "53ba90a5-91e3-440c-9b7a-1c5e7553725b"
      },
      "source": [
        "# To convert any variable to boolean type just use the cast bool ()\n",
        "\n",
        "\n",
        "None_bool = bool(None) # None is False\n",
        "print(None_bool) \n",
        "\n",
        "print(False) # False is boolean\n",
        "\n",
        "empty_string_bool = bool('')\n",
        "print(empty_string_bool) # empty string is False \n",
        "\n",
        "# And all empty representations of sequences and dictionaries are also False\n",
        "tupla_vuota = bool(()) # inner brackets indicate the empty tuple\n",
        "lista_vuota = bool([])  # square brackets indicate the empty list\n",
        "dizionario_vuoto = bool({}) # curly brackets indicate empty dictionary\n",
        "\n",
        "print(tupla_vuota, lista_vuota, dizionario_vuoto)"
      ],
      "execution_count": null,
      "outputs": [
        {
          "output_type": "stream",
          "name": "stdout",
          "text": [
            "False\n",
            "False\n",
            "False\n",
            "False False False\n"
          ]
        }
      ]
    },
    {
      "cell_type": "markdown",
      "metadata": {
        "id": "zctE8YrBO271"
      },
      "source": [
        "# String expressions"
      ]
    },
    {
      "cell_type": "code",
      "metadata": {
        "colab": {
          "base_uri": "https://localhost:8080/"
        },
        "id": "ROBC3YMSO4xF",
        "outputId": "708b9827-3319-4055-c174-6ad598118a54"
      },
      "source": [
        "print(\"banana\" + \"fruit\")\n",
        "\n",
        "print(\"banana\" * 3)"
      ],
      "execution_count": null,
      "outputs": [
        {
          "output_type": "stream",
          "name": "stdout",
          "text": [
            "bananafrutta\n",
            "bananabananabanana\n"
          ]
        }
      ]
    },
    {
      "cell_type": "markdown",
      "metadata": {
        "id": "9uCeTQbqniVz"
      },
      "source": [
        "# Get input values from keyboard\n",
        "\n"
      ]
    },
    {
      "cell_type": "code",
      "metadata": {
        "colab": {
          "base_uri": "https://localhost:8080/"
        },
        "id": "dM5TrzqSnfl1",
        "outputId": "ad590721-a38a-4094-d534-6e698f36a292"
      },
      "source": [
        "# We can use the input () function to supply our software with keyboard values\n",
        "\n",
        "name = input('Insert your name: ') # assign the input to name variable\n",
        "\n",
        "print(\"Hello World \", name) # We print on the screen the string \"Hello World\" followed by the name provided by the input!"
      ],
      "execution_count": null,
      "outputs": [
        {
          "output_type": "stream",
          "name": "stdout",
          "text": [
            "Insert your name: bo\n",
            "Hello World  bo\n"
          ]
        }
      ]
    },
    {
      "cell_type": "markdown",
      "source": [
        "# First exercise group"
      ],
      "metadata": {
        "id": "uehx1GLVaxjp"
      }
    },
    {
      "cell_type": "markdown",
      "metadata": {
        "id": "Yt1XSEwOMB89"
      },
      "source": [
        "## First exercise\n",
        "\n",
        "Delivery: Take your name and age as keyboard input and print them!\n"
      ]
    },
    {
      "cell_type": "code",
      "metadata": {
        "colab": {
          "base_uri": "https://localhost:8080/"
        },
        "id": "u-fP-wJ0MID-",
        "outputId": "519ab164-635d-4860-cd91-5ddc8d9832df"
      },
      "source": [
        "name = input('Insert your name: ') # we assign the input to the variable name\n",
        "\n",
        "########## Your code starts here ##########\n",
        "age = None\n",
        "\n",
        "\n",
        "########## Your code ends here ##########"
      ],
      "execution_count": null,
      "outputs": [
        {
          "name": "stdout",
          "output_type": "stream",
          "text": [
            "Insert your name: bo\n"
          ]
        }
      ]
    },
    {
      "cell_type": "markdown",
      "metadata": {
        "id": "xOOwEGqjv5Zw"
      },
      "source": [
        "## Second exercise\n",
        "Given two numbers in input, check if the first is greater than the second"
      ]
    },
    {
      "cell_type": "code",
      "metadata": {
        "id": "3R3lzAbawCRv"
      },
      "source": [
        "def first_number_more_equal_number2(number1,number2):\n",
        "  ########## Your code starts here ##########\n",
        "  return None\n",
        "  ########## Your code ends here ########## "
      ],
      "execution_count": null,
      "outputs": []
    },
    {
      "cell_type": "code",
      "metadata": {
        "colab": {
          "base_uri": "https://localhost:8080/"
        },
        "id": "miWynNSZwKgN",
        "outputId": "cfaf8241-1bff-4cf3-e7b3-14a0bbfb5fd7"
      },
      "source": [
        "number1 = int(input('Insert first integer: ')) # cast to integer\n",
        "number2 = int(input('Insert second integer: ')) # cast to integer\n",
        "\n",
        "number_1_maggiore_number_2 = first_number_more_equal_number2(number1,number2)\n",
        "\n",
        "if number_1_maggiore_number_2 == None: \n",
        "  raise NotImplementedError(\"You don't have coded the function first_number_more_equal_number2\")\n",
        "\n",
        "print(number1, \" >= \", number2, \"?  \", number_1_maggiore_number_2)"
      ],
      "execution_count": null,
      "outputs": [
        {
          "output_type": "stream",
          "name": "stdout",
          "text": [
            "Insert first integer: 4\n",
            "Insert second integer: 2\n",
            "4  >=  2 ?   True\n"
          ]
        }
      ]
    },
    {
      "cell_type": "markdown",
      "metadata": {
        "id": "jPOCwS83U6Iu"
      },
      "source": [
        "# Functions"
      ]
    },
    {
      "cell_type": "code",
      "metadata": {
        "colab": {
          "base_uri": "https://localhost:8080/"
        },
        "id": "0cmP5J4WZ7TD",
        "outputId": "dd5ed529-e133-49e7-a53e-9b42e6e9e59e"
      },
      "source": [
        "# Our first function: the sum!\n",
        "\n",
        "def sum(num1,num2):\n",
        "    return num1 + num2\n",
        "  \n",
        "print(sum(5,7))\n",
        "\n",
        "print(sum(10,128))\n",
        "\n",
        "print(sum(10,3*5))"
      ],
      "execution_count": null,
      "outputs": [
        {
          "output_type": "stream",
          "name": "stdout",
          "text": [
            "12\n",
            "138\n",
            "25\n"
          ]
        }
      ]
    },
    {
      "cell_type": "code",
      "metadata": {
        "colab": {
          "base_uri": "https://localhost:8080/"
        },
        "id": "4rmq6KdyaMCa",
        "outputId": "1bf3acc1-216b-4a69-903c-215ba6ede027"
      },
      "source": [
        "num1 = int(input('Insert first addendum: ')) # castiamo a intero per evitare di inserire valori illegali\n",
        "num2 = int(input('Insert second addendum: ')) # castiamo a intero per evitare di inserire valori illegali\n",
        "\n",
        "print(\"La somma tra %s e %s fa: %s\" % (num1, num2,sum(num1,num2)))\n"
      ],
      "execution_count": null,
      "outputs": [
        {
          "output_type": "stream",
          "name": "stdout",
          "text": [
            "Inserisci il primo addendo: 5\n",
            "Inserisci il secondo addendo: 2\n",
            "La somma tra 5 e 2 fa: 7\n"
          ]
        }
      ]
    },
    {
      "cell_type": "code",
      "source": [
        "def substraction(num1,num2):\n",
        "    ########## Your code starts here ##########\n",
        "    return None\n",
        "    ########## Your code ends here ##########"
      ],
      "metadata": {
        "id": "y0qSg4pyfhZw"
      },
      "execution_count": null,
      "outputs": []
    },
    {
      "cell_type": "markdown",
      "metadata": {
        "id": "eeLXhfIq44Pa"
      },
      "source": [
        "## Function composition\n",
        "\n",
        "We can compose the execution of multiple functions!\n",
        "\n",
        "\n",
        "```\n",
        "subtraction(sum(3,4),7)\n",
        "```\n",
        "\n",
        "\n",
        "would be equivalent to doing the following:\n",
        "\n",
        "```\n",
        "(3+4) - 7 = 0\n",
        "```\n",
        "\n",
        "The operations are carried out following what is defined [**valutazione Eager**](https://it.wikipedia.org/wiki/Valutazione_eager#:~:text=Nella%20programmazione%2C%20la%20valutazione%20eager,espressione%20che%20da%20essa%20dipende.):\n",
        "\n",
        "\n",
        "1. The arguments of the **subtraction** function are evaluated first, that is **sum (3,4)** and **7**;\n",
        "2. To evaluate sum (3,4) we have to execute the function defined by it, which returns the value 7;\n",
        "3. At this point, we take the value 7 and subtract it from 7, obtaining 0.\n",
        "\n",
        "\n",
        "\n",
        "\n"
      ]
    },
    {
      "cell_type": "code",
      "metadata": {
        "colab": {
          "base_uri": "https://localhost:8080/"
        },
        "id": "Orokw69943j2",
        "outputId": "57d5dd46-a8da-4600-bcb8-1c9d3d2d547d"
      },
      "source": [
        "composizione_somma_sottrazione = substraction(sum(3,4),7)\n",
        "print(composizione_somma_sottrazione)"
      ],
      "execution_count": null,
      "outputs": [
        {
          "output_type": "stream",
          "name": "stdout",
          "text": [
            "0\n"
          ]
        }
      ]
    },
    {
      "cell_type": "markdown",
      "metadata": {
        "id": "ng771gLLFv80"
      },
      "source": [
        "# Variable scope"
      ]
    },
    {
      "cell_type": "markdown",
      "metadata": {
        "id": "oSanwTptL5gh"
      },
      "source": [
        "## Global vs local variable"
      ]
    },
    {
      "cell_type": "code",
      "metadata": {
        "id": "_O7U9TFTJlb0"
      },
      "source": [
        "# We are at level 1 of the visibility hierarchy\n",
        "# globally scoped variable\n",
        "\n",
        "global_variable = \"global\"\n",
        "\n",
        "def examin_variable_scope():\n",
        "  # We are at level 2 of the visibility hierarchy\n",
        "  local_variable_1 = \"local_1\" # local scope\n",
        "  local_variable_2 = \"local_2\" # local scope\n",
        "  print(\"Local scope variables%s\" % [local_variable_1,local_variable_2])\n",
        "  print(\"Global scoper variables%s\" % [global_variable])"
      ],
      "execution_count": null,
      "outputs": []
    },
    {
      "cell_type": "code",
      "metadata": {
        "colab": {
          "base_uri": "https://localhost:8080/"
        },
        "id": "6l6K5a8SKCKF",
        "outputId": "ff08e745-1564-4777-83a7-f526554d5a4c"
      },
      "source": [
        "print(global_variable) #variabile globale"
      ],
      "execution_count": null,
      "outputs": [
        {
          "output_type": "stream",
          "name": "stdout",
          "text": [
            "globalw\n"
          ]
        }
      ]
    },
    {
      "cell_type": "code",
      "metadata": {
        "colab": {
          "base_uri": "https://localhost:8080/"
        },
        "id": "l85mBvjVKJZn",
        "outputId": "3c343ea0-0218-40d0-f403-453205c8ddcd"
      },
      "source": [
        "examin_variable_scope()"
      ],
      "execution_count": null,
      "outputs": [
        {
          "output_type": "stream",
          "name": "stdout",
          "text": [
            "Local scope variables['locale_1', 'locale_2']\n",
            "Global scoper variables['globalw']\n"
          ]
        }
      ]
    },
    {
      "cell_type": "code",
      "metadata": {
        "colab": {
          "base_uri": "https://localhost:8080/",
          "height": 188
        },
        "id": "vZmi9sa2KS16",
        "outputId": "28fd622e-8e55-4337-a3d4-e034f8737a08"
      },
      "source": [
        "# La variabile_locale_1 aveva visibilità solo nel livello 2, ora siamo tornatia  livello 1 e non esiste!\n",
        "print(local_variable_1)"
      ],
      "execution_count": null,
      "outputs": [
        {
          "output_type": "error",
          "ename": "NameError",
          "evalue": "ignored",
          "traceback": [
            "\u001b[0;31m---------------------------------------------------------------------------\u001b[0m",
            "\u001b[0;31mNameError\u001b[0m                                 Traceback (most recent call last)",
            "\u001b[0;32m<ipython-input-34-95d5af7a27ac>\u001b[0m in \u001b[0;36m<module>\u001b[0;34m()\u001b[0m\n\u001b[1;32m      1\u001b[0m \u001b[0;31m# La variabile_locale_1 aveva visibilità solo nel livello 2, ora siamo tornatia  livello 1 e non esiste!\u001b[0m\u001b[0;34m\u001b[0m\u001b[0;34m\u001b[0m\u001b[0;34m\u001b[0m\u001b[0m\n\u001b[0;32m----> 2\u001b[0;31m \u001b[0mprint\u001b[0m\u001b[0;34m(\u001b[0m\u001b[0mlocal_variable_1\u001b[0m\u001b[0;34m)\u001b[0m\u001b[0;34m\u001b[0m\u001b[0;34m\u001b[0m\u001b[0m\n\u001b[0m",
            "\u001b[0;31mNameError\u001b[0m: name 'local_variable_1' is not defined"
          ]
        }
      ]
    },
    {
      "cell_type": "markdown",
      "metadata": {
        "id": "rBEJqwFIL7rA"
      },
      "source": [
        "## Shadowing di una variabile globale"
      ]
    },
    {
      "cell_type": "code",
      "metadata": {
        "id": "_rFrX37bL-Z4"
      },
      "source": [
        "# We are at level 1 of the visibility hierarchy\n",
        "# globally scoped variable\n",
        "\n",
        "global_variable = \"global\"\n",
        "\n",
        "def examin_variable_scope():\n",
        "  # We are at level 2 of the visibility hierarchy\n",
        "  local_variable_1 = \"local_1\" # local scope\n",
        "  local_variable_2 = \"local_2\" # local scope\n",
        "  global_variable = \"global_modified\"\n",
        "  print(\"Local scope variables%s\" % [local_variable_1,local_variable_2])\n",
        "  print(\"Global scoper variables%s\" % [global_variable])"
      ],
      "execution_count": null,
      "outputs": []
    },
    {
      "cell_type": "code",
      "metadata": {
        "colab": {
          "base_uri": "https://localhost:8080/"
        },
        "id": "hXQ84fvxMDzH",
        "outputId": "72cda6ae-fbed-44b7-dcd0-f8af514bece0"
      },
      "source": [
        "print(global_variable)"
      ],
      "execution_count": null,
      "outputs": [
        {
          "output_type": "stream",
          "name": "stdout",
          "text": [
            "global\n"
          ]
        }
      ]
    },
    {
      "cell_type": "code",
      "metadata": {
        "colab": {
          "base_uri": "https://localhost:8080/"
        },
        "id": "TO2XanBRMFDj",
        "outputId": "f00ee594-6157-40f0-a49f-80e645743af9"
      },
      "source": [
        "examin_variable_scope()"
      ],
      "execution_count": null,
      "outputs": [
        {
          "output_type": "stream",
          "name": "stdout",
          "text": [
            "Local scope variables['local_1', 'local_2']\n",
            "Global scoper variables['global_modified']\n"
          ]
        }
      ]
    },
    {
      "cell_type": "code",
      "metadata": {
        "colab": {
          "base_uri": "https://localhost:8080/"
        },
        "id": "oLquQzxOMGKi",
        "outputId": "043de44a-04ac-40ff-e9e9-56ab5340d247"
      },
      "source": [
        "print(global_variable)"
      ],
      "execution_count": null,
      "outputs": [
        {
          "output_type": "stream",
          "name": "stdout",
          "text": [
            "global\n"
          ]
        }
      ]
    },
    {
      "cell_type": "markdown",
      "metadata": {
        "id": "OQyyoHlYTrYw"
      },
      "source": [
        "# Data structures\n",
        "\n",
        "In this section we will learn how to build and manipulate the four fundamental data structures in Python:\n",
        "\n",
        "\n",
        "*  `[List]`\n",
        "*  `(Tuple)`\n",
        "*  `{Set}`\n",
        "*  `{'dictio': 'nary'}`\n",
        "\n",
        "\n"
      ]
    },
    {
      "cell_type": "markdown",
      "metadata": {
        "id": "0PxlZeSncHTe"
      },
      "source": [
        "## List\n"
      ]
    },
    {
      "cell_type": "code",
      "metadata": {
        "colab": {
          "base_uri": "https://localhost:8080/"
        },
        "id": "Iao8WlPdYV1i",
        "outputId": "77f2ec86-a057-4f2a-d4f4-2e1d365b28e7"
      },
      "source": [
        "empty_list = []\n",
        "print(empty_list)\n",
        "\n",
        "integer_list = [10,20,30]\n",
        "print(integer_list)\n",
        "\n",
        "another_empty_list = list() # this is a callable class as print() or type()\n",
        "print(another_empty_list)"
      ],
      "execution_count": null,
      "outputs": [
        {
          "output_type": "stream",
          "name": "stdout",
          "text": [
            "[]\n",
            "[10, 20, 30]\n",
            "[]\n"
          ]
        }
      ]
    },
    {
      "cell_type": "code",
      "metadata": {
        "colab": {
          "base_uri": "https://localhost:8080/"
        },
        "id": "WrMhw8j_sBQD",
        "outputId": "029c7bfe-8a1c-4cb4-9855-c2075e7755db"
      },
      "source": [
        "# The len () construct generally indicates the length of a data structure, in this case the list\n",
        "\n",
        "print(len(empty_list)) \n",
        "\n",
        "print(len(integer_list))"
      ],
      "execution_count": null,
      "outputs": [
        {
          "output_type": "stream",
          "name": "stdout",
          "text": [
            "0\n",
            "3\n"
          ]
        }
      ]
    },
    {
      "cell_type": "markdown",
      "metadata": {
        "id": "ZxFnHCLtrmQT"
      },
      "source": [
        "### List indexing"
      ]
    },
    {
      "cell_type": "code",
      "metadata": {
        "colab": {
          "base_uri": "https://localhost:8080/"
        },
        "id": "P77bnlsqoPT1",
        "outputId": "3c513817-d9e1-407d-ad39-cc9859ad8b18"
      },
      "source": [
        "integer_list = [10,20,30]\n",
        "\n",
        "# I access the first and second elements, remember that we start from scratch!\n",
        "print(\"Element with index 0 is:\", integer_list[0])\n",
        "print(\"Element with index 1 is:\", integer_list[1])"
      ],
      "execution_count": null,
      "outputs": [
        {
          "output_type": "stream",
          "name": "stdout",
          "text": [
            "Element with index 0 is: 10\n",
            "Element with index 1 is: 20\n"
          ]
        }
      ]
    },
    {
      "cell_type": "code",
      "metadata": {
        "colab": {
          "base_uri": "https://localhost:8080/"
        },
        "id": "O0f5DmC8sqhx",
        "outputId": "3d1c360c-e5d0-4ab8-f84d-9863dda2594a"
      },
      "source": [
        "# access the last element of the list and the penultimate, using negative notation and then counting backwards!\n",
        "print(\"Last element of the list is :\", integer_list[-1])\n",
        "print(\"Penultimate element of the list is :\", integer_list[-2])"
      ],
      "execution_count": null,
      "outputs": [
        {
          "output_type": "stream",
          "name": "stdout",
          "text": [
            "L'elemento con indice -1 è: 30\n",
            "L'elemento con indice -2 è: 20\n"
          ]
        }
      ]
    },
    {
      "cell_type": "markdown",
      "metadata": {
        "id": "xqSdaopTs3Ia"
      },
      "source": [
        "### Indexing a sublist\n"
      ]
    },
    {
      "cell_type": "code",
      "metadata": {
        "colab": {
          "base_uri": "https://localhost:8080/"
        },
        "id": "xIRQ0uzzszwD",
        "outputId": "c46c3dac-d2f4-4ca4-f311-79c4b8c225e5"
      },
      "source": [
        "integer_list = [10,20,30]\n",
        "\n",
        "# let's take the first two elements of the list\n",
        "print (integer_list [: 2]) # the index after i: is exclusive -> in this case we are taking the list from the beginning up to the index n-1 (in this case 2-1)"
      ],
      "execution_count": null,
      "outputs": [
        {
          "output_type": "stream",
          "name": "stdout",
          "text": [
            "[10, 20]\n"
          ]
        }
      ]
    },
    {
      "cell_type": "code",
      "metadata": {
        "colab": {
          "base_uri": "https://localhost:8080/"
        },
        "id": "kwdwuR-HtC8G",
        "outputId": "90cf5125-3ee8-40ac-f7da-46c3d8f89130"
      },
      "source": [
        "print(integer_list[1:2])# the index before the: is inclusive, we are taking the list from 1 to n-1 (2-1), i.e. the list containing the element at index 1"
      ],
      "execution_count": null,
      "outputs": [
        {
          "output_type": "stream",
          "name": "stdout",
          "text": [
            "[20]\n"
          ]
        }
      ]
    },
    {
      "cell_type": "code",
      "metadata": {
        "colab": {
          "base_uri": "https://localhost:8080/"
        },
        "id": "X-RPz4WKtHRf",
        "outputId": "cc8039da-4f0e-4c19-861d-96bc01969c93"
      },
      "source": [
        "print(integer_list[1:])# as before, the index before the: is inclusive, we take the sub-list from index 1 to the end"
      ],
      "execution_count": null,
      "outputs": [
        {
          "output_type": "stream",
          "name": "stdout",
          "text": [
            "[20, 30]\n"
          ]
        }
      ]
    },
    {
      "cell_type": "markdown",
      "metadata": {
        "id": "a3WhQwH4Reh0"
      },
      "source": [
        "### List is a mutable data structure"
      ]
    },
    {
      "cell_type": "code",
      "metadata": {
        "colab": {
          "base_uri": "https://localhost:8080/"
        },
        "id": "N9CdkyOZRcvz",
        "outputId": "ea7d0d02-ba40-4203-defb-9948e0d1616c"
      },
      "source": [
        "mixed_list = [1,2,3]\n",
        "\n",
        "print(\"Before modification\", mixed_list)\n",
        "\n",
        "mixed_list[0] = 5 # assign 5 to index 0\n",
        "print(\"After first modification\", mixed_list)\n",
        "\n",
        "\n",
        "mixed_list[-1] = 'ciao' # assign to last index the value 'ciao'\n",
        "print(\"After second modification\", mixed_list)\n"
      ],
      "execution_count": null,
      "outputs": [
        {
          "output_type": "stream",
          "name": "stdout",
          "text": [
            "Before modification [1, 2, 3]\n",
            "After first modification [5, 2, 3]\n",
            "After second modification [5, 2, 'ciao']\n"
          ]
        }
      ]
    },
    {
      "cell_type": "code",
      "metadata": {
        "colab": {
          "base_uri": "https://localhost:8080/"
        },
        "id": "dbX4ehj4UZ-I",
        "outputId": "ff978788-97ae-4075-aa14-35ae19424578"
      },
      "source": [
        "# Possiamo cancellare un elemento della lista con l'istruzione del seguita dalla lista indicizzata\n",
        "\n",
        "del mixed_list[0] # elimino il primo elemento della lista\n",
        "print(\"Lista con primo elemento cancellato: \", mixed_list)\n"
      ],
      "execution_count": null,
      "outputs": [
        {
          "output_type": "stream",
          "name": "stdout",
          "text": [
            "Lista con primo elemento cancellato:  [2, 'ciao']\n"
          ]
        }
      ]
    },
    {
      "cell_type": "code",
      "metadata": {
        "colab": {
          "base_uri": "https://localhost:8080/"
        },
        "id": "MCNVfyaBR5sM",
        "outputId": "fcc7db1a-0022-4fe4-8da3-da3ce0a31eed"
      },
      "source": [
        "# we add an element at the end with append\n",
        "mixed_list.append(\"ultimo_elemento\")"
      ],
      "execution_count": null,
      "outputs": [
        {
          "output_type": "stream",
          "name": "stdout",
          "text": [
            "Lista vecchia:  [5, 2, 'ciao']\n",
            "Lista copiata e manipolata:  [5, 2, 'ciao', 'ultimo_elemento']\n"
          ]
        }
      ]
    },
    {
      "cell_type": "markdown",
      "metadata": {
        "id": "2zsyt6ftim4M"
      },
      "source": [
        "### Bidimensional list\n"
      ]
    },
    {
      "cell_type": "code",
      "metadata": {
        "id": "hbUlezmKipSG"
      },
      "source": [
        "bidimensional_integer_list = [[10,20],[30,40],[50,60]] # creiamo la nostra prima lista bidimensionale"
      ],
      "execution_count": null,
      "outputs": []
    },
    {
      "cell_type": "code",
      "metadata": {
        "colab": {
          "base_uri": "https://localhost:8080/"
        },
        "id": "BbJ9hf4hjhaq",
        "outputId": "16cd0622-14da-48d3-99b6-84d46478e624"
      },
      "source": [
        "# first row\n",
        "print(bidimensional_integer_list[0])\n",
        "\n",
        "# first row, first column\n",
        "print(bidimensional_integer_list[0][0])\n"
      ],
      "execution_count": null,
      "outputs": [
        {
          "output_type": "stream",
          "name": "stdout",
          "text": [
            "[10, 20]\n",
            "10\n"
          ]
        }
      ]
    },
    {
      "cell_type": "markdown",
      "metadata": {
        "id": "IiTx3Xiilw7M"
      },
      "source": [
        "## Tuples"
      ]
    },
    {
      "cell_type": "code",
      "metadata": {
        "colab": {
          "base_uri": "https://localhost:8080/"
        },
        "id": "DATmSksll4az",
        "outputId": "db060d5e-6b37-482e-c761-caeec684ba1f"
      },
      "source": [
        "empty_tuple = ()\n",
        "\n",
        "print(empty_tuple, type(empty_tuple))\n",
        "\n",
        "integer_tuple = (5,6,7) \n",
        "print(integer_tuple)\n",
        "\n",
        "another_empty_tuple = tuple()\n",
        "print(another_empty_tuple)"
      ],
      "execution_count": null,
      "outputs": [
        {
          "output_type": "stream",
          "name": "stdout",
          "text": [
            "() <class 'tuple'>\n",
            "(5, 6, 7)\n",
            "()\n"
          ]
        }
      ]
    },
    {
      "cell_type": "markdown",
      "metadata": {
        "id": "oSpgicQYp5H8"
      },
      "source": [
        "### Tuple indexing"
      ]
    },
    {
      "cell_type": "code",
      "metadata": {
        "colab": {
          "base_uri": "https://localhost:8080/"
        },
        "id": "ao7gFBP5mccb",
        "outputId": "736479bb-578d-434d-ed5e-440a15489ab6"
      },
      "source": [
        "# tuple indexing\n",
        "integer_tuple = (5,6,7) \n",
        "\n",
        "print(integer_tuple[0]) # first element"
      ],
      "execution_count": null,
      "outputs": [
        {
          "output_type": "stream",
          "name": "stdout",
          "text": [
            "5\n",
            "(6, 7)\n"
          ]
        }
      ]
    },
    {
      "cell_type": "markdown",
      "metadata": {
        "id": "Uughg1Fsp1XL"
      },
      "source": [
        "### Tuples are immutable"
      ]
    },
    {
      "cell_type": "code",
      "metadata": {
        "id": "pVw20w1qp_SV"
      },
      "source": [
        "integer_tuple = (5,6,7) "
      ],
      "execution_count": null,
      "outputs": []
    },
    {
      "cell_type": "code",
      "metadata": {
        "colab": {
          "base_uri": "https://localhost:8080/",
          "height": 170
        },
        "id": "ZQphRynMqZKC",
        "outputId": "4f730da6-7c1f-4338-d102-ca4a23a1166c"
      },
      "source": [
        "integer_tuple[0]=1 # values of a tuple can't be modified!"
      ],
      "execution_count": null,
      "outputs": [
        {
          "output_type": "error",
          "ename": "TypeError",
          "evalue": "ignored",
          "traceback": [
            "\u001b[0;31m---------------------------------------------------------------------------\u001b[0m",
            "\u001b[0;31mTypeError\u001b[0m                                 Traceback (most recent call last)",
            "\u001b[0;32m<ipython-input-47-ce0b3b3838d6>\u001b[0m in \u001b[0;36m<module>\u001b[0;34m()\u001b[0m\n\u001b[0;32m----> 1\u001b[0;31m \u001b[0minteger_tuple\u001b[0m\u001b[0;34m[\u001b[0m\u001b[0;36m0\u001b[0m\u001b[0;34m]\u001b[0m\u001b[0;34m=\u001b[0m\u001b[0;36m1\u001b[0m \u001b[0;31m# errore, non si possono modificare valori\u001b[0m\u001b[0;34m\u001b[0m\u001b[0;34m\u001b[0m\u001b[0m\n\u001b[0m",
            "\u001b[0;31mTypeError\u001b[0m: 'tuple' object does not support item assignment"
          ]
        }
      ]
    },
    {
      "cell_type": "code",
      "metadata": {
        "colab": {
          "base_uri": "https://localhost:8080/",
          "height": 170
        },
        "id": "5GstHn3zq-w6",
        "outputId": "18153ccf-3adb-4cbe-8f49-d223dbf726e5"
      },
      "source": [
        "del integer_tuple[0] # values of a tuple can't be modified!"
      ],
      "execution_count": null,
      "outputs": [
        {
          "output_type": "error",
          "ename": "TypeError",
          "evalue": "ignored",
          "traceback": [
            "\u001b[0;31m---------------------------------------------------------------------------\u001b[0m",
            "\u001b[0;31mTypeError\u001b[0m                                 Traceback (most recent call last)",
            "\u001b[0;32m<ipython-input-48-f4ba17980f72>\u001b[0m in \u001b[0;36m<module>\u001b[0;34m()\u001b[0m\n\u001b[0;32m----> 1\u001b[0;31m \u001b[0;32mdel\u001b[0m \u001b[0minteger_tuple\u001b[0m\u001b[0;34m[\u001b[0m\u001b[0;36m0\u001b[0m\u001b[0;34m]\u001b[0m \u001b[0;31m# values of a tuple can't be modified!\u001b[0m\u001b[0;34m\u001b[0m\u001b[0;34m\u001b[0m\u001b[0m\n\u001b[0m",
            "\u001b[0;31mTypeError\u001b[0m: 'tuple' object doesn't support item deletion"
          ]
        }
      ]
    },
    {
      "cell_type": "code",
      "source": [
        "del integer_tuple # you can however delete it all"
      ],
      "metadata": {
        "id": "qlQDyt7IjnHx"
      },
      "execution_count": null,
      "outputs": []
    },
    {
      "cell_type": "markdown",
      "metadata": {
        "id": "G5HpKghDr0K3"
      },
      "source": [
        "## Dictionaries"
      ]
    },
    {
      "cell_type": "code",
      "metadata": {
        "colab": {
          "base_uri": "https://localhost:8080/"
        },
        "id": "WigB0B1lr3gc",
        "outputId": "092d484c-b91d-4361-c656-c3b12bdd98f2"
      },
      "source": [
        "empty_dictionary = {}\n",
        "\n",
        "print(empty_dictionary, type(empty_dictionary))\n",
        "\n",
        "dictionary_string_integers = {\"one\":1, \"two\":2}\n",
        "print(dictionary_string_integers)\n",
        "\n",
        "another_empty_dictionary = dict()\n",
        "print(another_empty_dictionary)"
      ],
      "execution_count": null,
      "outputs": [
        {
          "output_type": "stream",
          "name": "stdout",
          "text": [
            "{} <class 'dict'>\n",
            "{'uno': 1, 'due': 2}\n",
            "{}\n"
          ]
        }
      ]
    },
    {
      "cell_type": "markdown",
      "metadata": {
        "id": "ZniVmeTqs2gG"
      },
      "source": [
        "### Dictionary indexing"
      ]
    },
    {
      "cell_type": "code",
      "metadata": {
        "colab": {
          "base_uri": "https://localhost:8080/"
        },
        "id": "TX88PF6Mr3nY",
        "outputId": "81747272-b96e-4ff4-c6bb-da78617e5db9"
      },
      "source": [
        "dictionary_string_integers = {\"one\":1, \"two\":2, \"three\":3}\n",
        "print(dictionary_string_integers[\"one\"])"
      ],
      "execution_count": null,
      "outputs": [
        {
          "output_type": "stream",
          "name": "stdout",
          "text": [
            "1\n"
          ]
        }
      ]
    },
    {
      "cell_type": "code",
      "metadata": {
        "colab": {
          "base_uri": "https://localhost:8080/"
        },
        "id": "A4nyuPZBvOKL",
        "outputId": "04e2afd7-c77f-4e70-aa97-0d1a76217b9f"
      },
      "source": [
        "dictionary_string_integers = {\"one\":1, \"two\":2, \"three\":3}\n",
        "\n",
        "print(\"Dictionary --> \", dictionary_string_integers)\n",
        "\n",
        "del dictionary_string_integers[\"one\"] # erase couple one\n",
        "\n",
        "print(\"\\nDizionario with elimination--> \", dictionary_string_integers)\n",
        "\n",
        "dictionary_string_integers[\"uno\"] = 1 # add again the old couple\n",
        "\n",
        "print(\"\\nDizionario with addittion--> \", dictionary_string_integers)\n",
        "\n",
        "dictionary_string_integers[\"three\"] = 4 # modifichiamo valore da una chiave esistente\n",
        "\n",
        "print(\"\\nDizionario with modification--> \", dictionary_string_integers)\n"
      ],
      "execution_count": null,
      "outputs": [
        {
          "output_type": "stream",
          "name": "stdout",
          "text": [
            "Dictionary -->  {'one': 1, 'two': 2, 'three': 3}\n",
            "\n",
            "Dizionario with elimination-->  {'two': 2, 'three': 3}\n",
            "\n",
            "Dizionario with addittion-->  {'two': 2, 'three': 3, 'uno': 1}\n",
            "\n",
            "Dizionario with modification-->  {'two': 2, 'three': 4, 'uno': 1}\n"
          ]
        }
      ]
    },
    {
      "cell_type": "markdown",
      "metadata": {
        "id": "KFmsrr6OzgjV"
      },
      "source": [
        "## Set"
      ]
    },
    {
      "cell_type": "code",
      "metadata": {
        "colab": {
          "base_uri": "https://localhost:8080/"
        },
        "id": "u14GY2L50EbJ",
        "outputId": "7f605811-82bc-4154-9280-050cefa7946e"
      },
      "source": [
        "# empty_set = {} ---> NO! we creat an empty dict like this!\n",
        "\n",
        "empty_set = set()\n",
        "print(empty_set,type(empty_set))\n",
        "\n",
        "integer_set = {1,2,3}\n",
        "print(integer_set,type(integer_set))\n"
      ],
      "execution_count": null,
      "outputs": [
        {
          "output_type": "stream",
          "name": "stdout",
          "text": [
            "set() <class 'set'>\n",
            "{1, 2, 3} <class 'set'>\n"
          ]
        }
      ]
    },
    {
      "cell_type": "markdown",
      "metadata": {
        "id": "ISykoHzX0qaq"
      },
      "source": [
        "### (No) Set indexing"
      ]
    },
    {
      "cell_type": "code",
      "metadata": {
        "colab": {
          "base_uri": "https://localhost:8080/",
          "height": 188
        },
        "id": "l5TGy2XN0tGw",
        "outputId": "71e1e8f1-59d6-44cd-bf82-e3d0bc34f645"
      },
      "source": [
        "integer_set = {1,2,3} \n",
        "print(integer_set[1]) # error"
      ],
      "execution_count": null,
      "outputs": [
        {
          "output_type": "error",
          "ename": "TypeError",
          "evalue": "ignored",
          "traceback": [
            "\u001b[0;31m---------------------------------------------------------------------------\u001b[0m",
            "\u001b[0;31mTypeError\u001b[0m                                 Traceback (most recent call last)",
            "\u001b[0;32m<ipython-input-56-7e450c104977>\u001b[0m in \u001b[0;36m<module>\u001b[0;34m()\u001b[0m\n\u001b[1;32m      1\u001b[0m \u001b[0minteger_set\u001b[0m \u001b[0;34m=\u001b[0m \u001b[0;34m{\u001b[0m\u001b[0;36m1\u001b[0m\u001b[0;34m,\u001b[0m\u001b[0;36m2\u001b[0m\u001b[0;34m,\u001b[0m\u001b[0;36m3\u001b[0m\u001b[0;34m}\u001b[0m\u001b[0;34m\u001b[0m\u001b[0;34m\u001b[0m\u001b[0m\n\u001b[0;32m----> 2\u001b[0;31m \u001b[0mprint\u001b[0m\u001b[0;34m(\u001b[0m\u001b[0minteger_set\u001b[0m\u001b[0;34m[\u001b[0m\u001b[0;36m1\u001b[0m\u001b[0;34m]\u001b[0m\u001b[0;34m)\u001b[0m \u001b[0;31m# errore\u001b[0m\u001b[0;34m\u001b[0m\u001b[0;34m\u001b[0m\u001b[0m\n\u001b[0m",
            "\u001b[0;31mTypeError\u001b[0m: 'set' object is not subscriptable"
          ]
        }
      ]
    },
    {
      "cell_type": "markdown",
      "metadata": {
        "id": "m9IlgsFv1xsC"
      },
      "source": [
        "### Sets are mutable\n",
        "\n",
        "We can only add or remove elements but not modify them!"
      ]
    },
    {
      "cell_type": "code",
      "metadata": {
        "id": "0DRXv9M913iY"
      },
      "source": [
        "integer_set = {1,2,3}"
      ],
      "execution_count": null,
      "outputs": []
    },
    {
      "cell_type": "code",
      "metadata": {
        "colab": {
          "base_uri": "https://localhost:8080/"
        },
        "id": "KYoQ-RBU13kx",
        "outputId": "33334bab-59ba-48e4-c2d4-04c3060b53ff"
      },
      "source": [
        "# aggiungo elemento 4\n",
        "integer_set.add(4)\n",
        "print(integer_set)"
      ],
      "execution_count": null,
      "outputs": [
        {
          "output_type": "stream",
          "name": "stdout",
          "text": [
            "{1, 2, 3, 4}\n"
          ]
        }
      ]
    },
    {
      "cell_type": "code",
      "metadata": {
        "colab": {
          "base_uri": "https://localhost:8080/"
        },
        "id": "ra2PcTfC18zC",
        "outputId": "5faaffd3-a347-458f-ed87-a4a774d04108"
      },
      "source": [
        "# rimuovo elemento 2\n",
        "integer_set.remove(2)\n",
        "print(integer_set)"
      ],
      "execution_count": null,
      "outputs": [
        {
          "output_type": "stream",
          "name": "stdout",
          "text": [
            "{1, 3, 4}\n"
          ]
        }
      ]
    },
    {
      "cell_type": "code",
      "metadata": {
        "colab": {
          "base_uri": "https://localhost:8080/"
        },
        "id": "Z1wYchLd2CFG",
        "outputId": "7e31b150-b0a0-45dd-ff23-0b2b7445ecf9"
      },
      "source": [
        "print(\"Before update\", integer_set)\n",
        "integer_set.add(4)\n",
        "print(\"After update\",integer_set)"
      ],
      "execution_count": null,
      "outputs": [
        {
          "output_type": "stream",
          "name": "stdout",
          "text": [
            "Before update {1, 3, 4}\n",
            "After update {1, 3, 4}\n"
          ]
        }
      ]
    },
    {
      "cell_type": "markdown",
      "metadata": {
        "id": "mzg6mhhq3tks"
      },
      "source": [
        "### Classical mathematical set operations"
      ]
    },
    {
      "cell_type": "code",
      "metadata": {
        "id": "y2eYSmR13viT"
      },
      "source": [
        "integer_set1 = {1,2,3}\n",
        "integer_set2 = {2,3,4}"
      ],
      "execution_count": null,
      "outputs": []
    },
    {
      "cell_type": "code",
      "metadata": {
        "colab": {
          "base_uri": "https://localhost:8080/"
        },
        "id": "h19ETgd23vk4",
        "outputId": "89741f03-fd86-45f1-a5a6-372ee21e7127"
      },
      "source": [
        "# union\n",
        "print(integer_set1.union(integer_set2))\n",
        "\n",
        "# intersection\n",
        "print(integer_set1.intersection(integer_set2))\n",
        "\n",
        "# difference\n",
        "print(integer_set1.difference(integer_set2))\n",
        "print(integer_set2.difference(integer_set1))"
      ],
      "execution_count": null,
      "outputs": [
        {
          "output_type": "stream",
          "name": "stdout",
          "text": [
            "{1, 2, 3, 4}\n",
            "{2, 3}\n",
            "{1}\n",
            "{4}\n"
          ]
        }
      ]
    },
    {
      "cell_type": "markdown",
      "metadata": {
        "id": "cgh_D6s07ZKt"
      },
      "source": [
        "# Control operators"
      ]
    },
    {
      "cell_type": "markdown",
      "metadata": {
        "id": "VUhaZXuxvFe7"
      },
      "source": [
        "## If-else control operator\n",
        "\n",
        "We implement the famous \"Discriminator\" algorithm"
      ]
    },
    {
      "cell_type": "code",
      "metadata": {
        "colab": {
          "base_uri": "https://localhost:8080/"
        },
        "id": "mdMMiqlfvHzY",
        "outputId": "40a4f45f-0594-4042-a687-951ab6856591"
      },
      "source": [
        "integer_number = int(input('Provide an integer: ')) \n",
        "\n",
        "if integer_number <= 10:\n",
        "  print(integer_number, \"you are discriminate!\") \n",
        "else:\n",
        "  print(integer_number, \"you are not discriminate!\") "
      ],
      "execution_count": null,
      "outputs": [
        {
          "output_type": "stream",
          "name": "stdout",
          "text": [
            "Provide an integer: 5\n",
            "5  you are discriminate!\n"
          ]
        }
      ]
    },
    {
      "cell_type": "markdown",
      "metadata": {
        "id": "m_NSI_nzv6Jv"
      },
      "source": [
        "### Check for week-day\n",
        "\n"
      ]
    },
    {
      "cell_type": "code",
      "metadata": {
        "colab": {
          "base_uri": "https://localhost:8080/"
        },
        "id": "iNOGQKFIv-3e",
        "outputId": "f5e002ec-871a-40f9-b5eb-df6c3ab831d2"
      },
      "source": [
        "weekday = int(input('Indicate the weekday with the range (1 - 7): ')) \n",
        "\n",
        "if weekday == 1:\n",
        "  print(\"Today is monday\") \n",
        "elif weekday == 2:\n",
        "  print(\"Today is tuesday\") \n",
        "elif weekday == 3:\n",
        "  print(\"Today is wednesday\") \n",
        "elif weekday == 4:\n",
        "  print(\"Today is thursday\") \n",
        "elif weekday == 5:\n",
        "  print(\"Today is friday\") \n",
        "elif weekday == 6:\n",
        "  print(\"Today is saturday\") \n",
        "else:\n",
        "  print(\"Today is sunday\") \n"
      ],
      "execution_count": null,
      "outputs": [
        {
          "output_type": "stream",
          "name": "stdout",
          "text": [
            "Indicate the weekday with the range 1 - 7: 5\n",
            "Today is friday\n"
          ]
        }
      ]
    },
    {
      "cell_type": "markdown",
      "metadata": {
        "id": "r0ZIJssCziHe"
      },
      "source": [
        "### Controlliamo che una lista abbia almeno 3 elementi"
      ]
    },
    {
      "cell_type": "code",
      "metadata": {
        "id": "s2uzyYbjztQb"
      },
      "source": [
        "integer_list = [1,2,3]"
      ],
      "execution_count": null,
      "outputs": []
    },
    {
      "cell_type": "code",
      "metadata": {
        "colab": {
          "base_uri": "https://localhost:8080/"
        },
        "id": "8pVzDVIFzhh1",
        "outputId": "f63aab51-0e13-4714-c75f-ff6860273295"
      },
      "source": [
        "if len(integer_list) == 3:\n",
        "  print(\"Test passed\")\n",
        "else:\n",
        "  print(\"Test failed\")"
      ],
      "execution_count": null,
      "outputs": [
        {
          "output_type": "stream",
          "name": "stdout",
          "text": [
            "Test passed\n"
          ]
        }
      ]
    },
    {
      "cell_type": "markdown",
      "metadata": {
        "id": "0VaMqGhD9Azp"
      },
      "source": [
        "## Loop"
      ]
    },
    {
      "cell_type": "markdown",
      "metadata": {
        "id": "LxwLmTGx9IAd"
      },
      "source": [
        "### While loop"
      ]
    },
    {
      "cell_type": "code",
      "metadata": {
        "colab": {
          "base_uri": "https://localhost:8080/"
        },
        "id": "hKadtbP89GLz",
        "outputId": "b693a046-4c4f-457f-be40-a4845a124a04"
      },
      "source": [
        "# Our first while loop\n",
        "\n",
        "counter = 0\n",
        "\n",
        "while counter < 10:\n",
        "    print(counter)\n",
        "    counter = counter + 1"
      ],
      "execution_count": null,
      "outputs": [
        {
          "output_type": "stream",
          "name": "stdout",
          "text": [
            "0\n",
            "1\n",
            "2\n",
            "3\n",
            "4\n",
            "5\n",
            "6\n",
            "7\n",
            "8\n",
            "9\n"
          ]
        }
      ]
    },
    {
      "cell_type": "markdown",
      "metadata": {
        "id": "2tjOewxU98gP"
      },
      "source": [
        "Come creare un ciclo infinito dalla cella di codice appena vista?"
      ]
    },
    {
      "cell_type": "code",
      "metadata": {
        "colab": {
          "base_uri": "https://localhost:8080/"
        },
        "id": "Y0W3TwFE97p3",
        "outputId": "da0686da-cdd2-442c-a728-58a32c9e2ed7"
      },
      "source": [
        "########## Your code starts here ##########\n",
        "condition = None\n",
        "########## Your code ends here ##########\n",
        "\n",
        "counter = 0\n",
        "while condition:\n",
        "    print(counter)\n",
        "    counter +=1"
      ],
      "execution_count": null,
      "outputs": [
        {
          "output_type": "stream",
          "name": "stdout",
          "text": [
            "0\n",
            "1\n",
            "2\n",
            "3\n",
            "4\n",
            "5\n",
            "6\n",
            "7\n",
            "8\n",
            "9\n"
          ]
        }
      ]
    },
    {
      "cell_type": "markdown",
      "metadata": {
        "id": "lN7NXiTUAijp"
      },
      "source": [
        "### Break an infinite while with the if statement\n",
        "\n",
        "We want our user to enter numbers until he tells us to stop with the 'stop' command.\n",
        "\n",
        "We don't know a priori how many numbers our user will enter, so we need a way to recognize the 'stop' command and quit the computation!\n"
      ]
    },
    {
      "cell_type": "code",
      "metadata": {
        "colab": {
          "base_uri": "https://localhost:8080/"
        },
        "id": "CWKG7yFdAh4c",
        "outputId": "9d801994-c271-4781-cc18-578d0c733b74"
      },
      "source": [
        "# We want our user to enter numbers until he tells us to stop with the 'stop' command.\n",
        "\n",
        "while True:\n",
        "  num = input(\"Give me a number or 'stop' me \")\n",
        "  if num == \"stop\":\n",
        "    print(\"Goodbye!\")\n",
        "    break # exit from the while cycle!\n",
        "  print(\"You have typed\", num)"
      ],
      "execution_count": null,
      "outputs": [
        {
          "output_type": "stream",
          "name": "stdout",
          "text": [
            "Give me a number or 'stop' me 5\n",
            "You have typed 5\n",
            "Give me a number or 'stop' me stop\n",
            "Goodbye!\n"
          ]
        }
      ]
    },
    {
      "cell_type": "markdown",
      "metadata": {
        "id": "P9vt7cgp0jLC"
      },
      "source": [
        "### For loop"
      ]
    },
    {
      "cell_type": "code",
      "metadata": {
        "colab": {
          "base_uri": "https://localhost:8080/"
        },
        "id": "juAcW3LE0lBA",
        "outputId": "ade77ac7-2213-4dd7-bc1c-9ee59fd5a05f"
      },
      "source": [
        "# loop over a list of integers\n",
        "integer_list = [1,2,3]\n",
        "\n",
        "for num in integer_list:\n",
        "  print(num)"
      ],
      "execution_count": null,
      "outputs": [
        {
          "output_type": "stream",
          "name": "stdout",
          "text": [
            "1\n",
            "2\n",
            "3\n"
          ]
        }
      ]
    },
    {
      "cell_type": "code",
      "metadata": {
        "colab": {
          "base_uri": "https://localhost:8080/"
        },
        "id": "j7JBMsU_0zac",
        "outputId": "3066f04d-b105-4774-8c50-c7857b0d4dcb"
      },
      "source": [
        "# loop over a list of integers using indexes\n",
        "integer_list = [1,2,3]\n",
        "\n",
        "# Enumerate is a function that works on data structures and return couple of (index, value)\n",
        "\n",
        "for index, num in enumerate(integer_list):\n",
        "  print(\"Element with index %s is : %s\" % (index, num))"
      ],
      "execution_count": null,
      "outputs": [
        {
          "output_type": "stream",
          "name": "stdout",
          "text": [
            "Element with index 0 is : 1\n",
            "Element with index 1 is : 2\n",
            "Element with index 2 is : 3\n"
          ]
        }
      ]
    },
    {
      "cell_type": "markdown",
      "metadata": {
        "id": "wvEywf_T5Dvj"
      },
      "source": [
        "#### For loop on dictionaries\n",
        "\n",
        "To iterate on a dictionary you will have to adopt a policy similar to that adopted with the construct ```enumerate()```. \n",
        "\n",
        "In fact, if we remember correctly, a dictionary is made up of pairs `{key: value}`!\n",
        "\n",
        "Also remember that the dictionary is not a sequence! To iterate through a dictionary we will also need to call the `items()` method, which will return all the pairs of `(key, value)` in the dictionary.\n",
        "\n"
      ]
    },
    {
      "cell_type": "code",
      "metadata": {
        "colab": {
          "base_uri": "https://localhost:8080/"
        },
        "id": "uvx5OVB55C2o",
        "outputId": "aeb04d60-7fb2-469f-c77c-8cdb004d786b"
      },
      "source": [
        "dict_week_day = {0:\"monday\", 1:\"tuesday\", 2:\"wednesday\", 3:\"thursday\", 4:\"friday\", 5:\"saturday\", 6:\"sunday\"}\n",
        "\n",
        "for key,value in dict_week_day.items():\n",
        "  print(key,value)"
      ],
      "execution_count": null,
      "outputs": [
        {
          "output_type": "stream",
          "name": "stdout",
          "text": [
            "0 monday\n",
            "1 tuesday\n",
            "2 wednesday\n",
            "3 thursday\n",
            "4 friday\n",
            "5 saturday\n",
            "6 sunday\n"
          ]
        }
      ]
    },
    {
      "cell_type": "markdown",
      "metadata": {
        "id": "_JGsSKIF7tUr"
      },
      "source": [
        "### The range construct"
      ]
    },
    {
      "cell_type": "code",
      "source": [
        "for i in range(1,10):\n",
        "  print(i)"
      ],
      "metadata": {
        "colab": {
          "base_uri": "https://localhost:8080/"
        },
        "id": "5WyCnEYcsFkY",
        "outputId": "b893fd33-94f8-43c6-ecb1-e8eae351e9e3"
      },
      "execution_count": null,
      "outputs": [
        {
          "output_type": "stream",
          "name": "stdout",
          "text": [
            "1\n",
            "2\n",
            "3\n",
            "4\n",
            "5\n",
            "6\n",
            "7\n",
            "8\n",
            "9\n"
          ]
        }
      ]
    },
    {
      "cell_type": "code",
      "metadata": {
        "colab": {
          "base_uri": "https://localhost:8080/"
        },
        "id": "6HrF47ra7vko",
        "outputId": "f4131887-1e50-47ea-fd16-2d87c7574a5a"
      },
      "source": [
        "for i in range(1,10,2):\n",
        "  print(i)"
      ],
      "execution_count": null,
      "outputs": [
        {
          "output_type": "stream",
          "name": "stdout",
          "text": [
            "1\n",
            "3\n",
            "5\n",
            "7\n",
            "9\n"
          ]
        }
      ]
    },
    {
      "cell_type": "markdown",
      "metadata": {
        "id": "khoPH6EEAZlg"
      },
      "source": [
        "## A world without loops"
      ]
    },
    {
      "cell_type": "code",
      "source": [
        "# Increase counter from 0 to 10 with while loop\n",
        "counter = 0\n",
        "limit = 10\n",
        "\n",
        "while counter < limit:\n",
        "  counter = counter +1\n",
        "\n",
        "print(counter)"
      ],
      "metadata": {
        "colab": {
          "base_uri": "https://localhost:8080/"
        },
        "id": "14PfquwksS-v",
        "outputId": "899f4880-9c68-45a7-e89a-2c0222a761b8"
      },
      "execution_count": null,
      "outputs": [
        {
          "output_type": "stream",
          "name": "stdout",
          "text": [
            "20\n"
          ]
        }
      ]
    },
    {
      "cell_type": "code",
      "metadata": {
        "colab": {
          "base_uri": "https://localhost:8080/"
        },
        "id": "XcBf2LwC_D3z",
        "outputId": "86ee50d0-06ad-4568-eb61-beeb2385f677"
      },
      "source": [
        "# Increase counter from 0 to 10 without the while loop\n",
        "counter = 0\n",
        "\n",
        "counter = counter + 1 \n",
        "counter = counter + 1 \n",
        "counter = counter + 1 \n",
        "counter = counter + 1 \n",
        "counter = counter + 1 \n",
        "counter = counter + 1 \n",
        "counter = counter + 1 \n",
        "counter = counter + 1 \n",
        "counter = counter + 1 \n",
        "counter = counter + 1 \n",
        "\n",
        "print(counter)"
      ],
      "execution_count": null,
      "outputs": [
        {
          "output_type": "stream",
          "name": "stdout",
          "text": [
            "10\n"
          ]
        }
      ]
    },
    {
      "cell_type": "markdown",
      "source": [
        "# Let's create an Eliza minichatBot!"
      ],
      "metadata": {
        "id": "1K5Y_v6UbfgR"
      }
    },
    {
      "cell_type": "code",
      "source": [
        "# Saluti\n",
        "risposta_ciao = \"Ciao, sono Eliza dal dipartimento di Scienze per la qualità della vita, come posso aiutarti\"\n",
        "saluto_finale = \"Arrivederci!\"\n",
        "\n",
        "# Il dizionario è composto da coppie messaggio inviato dall'utente - risposta di Eliza!\n",
        "dizionario_comandi_Eliza_saluti = {\n",
        "    \"ciao\" : risposta_ciao,\n",
        "    \"arrivederci\" : saluto_finale, \n",
        "}"
      ],
      "metadata": {
        "id": "3-UQpqmRb5rZ"
      },
      "execution_count": null,
      "outputs": []
    },
    {
      "cell_type": "code",
      "source": [
        "# Fase degli acquisti!\n",
        "lista_di_capi_disponibili = [\"maglietta\", \"pantalone\", \"canottiera\", \"sandali\", \"scarpe\"]\n",
        "\n",
        "risposta_negozio = \"Posso venderti uno tra questi capi: \" # concateno tutti gli elementi della lista e li metto nella stringa\n",
        "risposta_compra = \"Dimmi cosa vuoi comprare tra \"\n",
        "risposta_acquisto = \"Hai acquistato %s, ti manderò la fattura! Desideri altro?\" # %s è un placeholder per il nome dell'articolo!\n",
        "risposta_prodotto_inesistente = \"Il prodotto %s non è presente nel catalogo. Vuoi comprare altro?\" # %s è un placeholder per il nome dell'articolo!\n",
        "\n",
        "comando_acquisto = \"compra\"\n",
        "\n",
        "dizionario_comandi_acquisto = {\n",
        "    \"negozio\" : risposta_negozio,\n",
        "    comando_acquisto: risposta_compra, \n",
        "    \"acquisto_effettuato\" : risposta_acquisto,\n",
        "    \"prodotto_inesistente\": risposta_prodotto_inesistente\n",
        "}"
      ],
      "metadata": {
        "id": "XaDkgJztdaXS"
      },
      "execution_count": null,
      "outputs": []
    },
    {
      "cell_type": "code",
      "source": [
        "def Eliza_chatbot(statement, livello_della_conversazione): # C'è \n",
        "\n",
        "  # LIVELLO 1 DI ANNIDAMENTO\n",
        "  # Controllo se il comando è tra i saluti\n",
        "  if statement in dizionario_comandi_Eliza_saluti.keys():\n",
        "    livello_della_conversazione = 1\n",
        "    return dizionario_comandi_Eliza_saluti[statement], livello_della_conversazione\n",
        "\n",
        "  # Controllo se il comando è tra quelli per il negozio\n",
        "  elif statement in dizionario_comandi_acquisto.keys():\n",
        "      # LIVELLO 2 DI ANNIDAMENTO\n",
        "     if statement == comando_acquisto:\n",
        "       livello_della_conversazione = 2\n",
        "     else: \n",
        "        livello_della_conversazione = 1\n",
        "     return dizionario_comandi_acquisto[statement] + \", \".join(lista_di_capi_disponibili), livello_della_conversazione\n",
        "\n",
        "  # COMPLETIAMO L'ACQUISTO\n",
        "  elif livello_della_conversazione == 2:\n",
        "      # LIVELLO 3 DI ANNIDAMENTO\n",
        "      prodotto_da_comprare = statement # permette di separare il comando dall'articolo\n",
        "      if prodotto_da_comprare in lista_di_capi_disponibili:\n",
        "        livello_della_conversazione = 1\n",
        "        # togliamo il capo tra quelli disponibili\n",
        "        lista_di_capi_disponibili.remove(prodotto_da_comprare)\n",
        "        return dizionario_comandi_acquisto[\"acquisto_effettuato\"] % prodotto_da_comprare, livello_della_conversazione\n",
        "      else:\n",
        "        return dizionario_comandi_acquisto[\"prodotto_inesistente\"] % prodotto_da_comprare, livello_della_conversazione\n",
        "  else:\n",
        "    return \"Non ho capito.\", livello_della_conversazione"
      ],
      "metadata": {
        "id": "fx3CnW6jbjfB"
      },
      "execution_count": null,
      "outputs": []
    },
    {
      "cell_type": "code",
      "source": [
        "livello_della_conversazione = 1\n",
        "\n",
        "while True:\n",
        "  statement = input(\"\")\n",
        "  eliza_answer, livello_della_conversazione = Eliza_chatbot(statement, livello_della_conversazione)\n",
        "  print(eliza_answer)\n",
        "  if eliza_answer == saluto_finale:\n",
        "    break"
      ],
      "metadata": {
        "colab": {
          "base_uri": "https://localhost:8080/"
        },
        "id": "G7vZWVXqbojx",
        "outputId": "da882bcd-7c08-49a1-a66b-a2dc515664db"
      },
      "execution_count": null,
      "outputs": [
        {
          "output_type": "stream",
          "name": "stdout",
          "text": [
            "ciao\n",
            "Ciao, sono Eliza dal dipartimento di Scienze per la qualità della vita, come posso aiutarti\n",
            "negozio\n",
            "Posso venderti uno tra questi capi: maglietta, pantalone, canottiera, sandali, scarpe\n",
            "compra\n",
            "Dimmi cosa vuoi comprare tra maglietta, pantalone, canottiera, sandali, scarpe\n",
            "maglietta\n",
            "Hai acquistato maglietta, ti manderò la fattura! Desideri altro?\n",
            "negozio\n",
            "Posso venderti uno tra questi capi: pantalone, canottiera, sandali, scarpe\n",
            "arrivederci\n",
            "Arrivederci!\n"
          ]
        }
      ]
    },
    {
      "cell_type": "markdown",
      "source": [
        "# Custom your Eliza ChatBot!"
      ],
      "metadata": {
        "id": "F_4PDyp4C82J"
      }
    },
    {
      "cell_type": "code",
      "source": [
        "risposta_ciao = \"Ciao, sono Eliza dal dipartimento di Scienze per la qualità della vita, come posso aiutarti\"\n",
        "saluto_finale = \"Arrivederci!\"\n",
        "\n",
        "dizionario_comandi = {\n",
        "    \"ciao\" : risposta_ciao,\n",
        "    \"arrivederci\" : saluto_finale, \n",
        "    # TODO: create i vostri comandi personalizzati\n",
        "}"
      ],
      "metadata": {
        "id": "lKhAzzKQDDP1"
      },
      "execution_count": null,
      "outputs": []
    },
    {
      "cell_type": "code",
      "source": [
        "def Eliza_chatbot_minified(statement): # C'è \n",
        "  # Controllo se il comando è tra i saluti\n",
        "  if statement in dizionario_comandi.keys():\n",
        "    return dizionario_comandi_Eliza_saluti[statement]\n",
        "  else:\n",
        "    return \"Non ho capito.\""
      ],
      "metadata": {
        "id": "7Zze5IzIDE_6"
      },
      "execution_count": null,
      "outputs": []
    },
    {
      "cell_type": "code",
      "source": [
        "while True:\n",
        "  statement = input(\"\")\n",
        "  eliza_answer = Eliza_chatbot_minified(statement)\n",
        "  print(eliza_answer)\n",
        "  if eliza_answer == saluto_finale:\n",
        "    break"
      ],
      "metadata": {
        "colab": {
          "base_uri": "https://localhost:8080/"
        },
        "id": "YM5KooUaDG-T",
        "outputId": "e5e39b39-f14f-4972-d139-1f08b58eaa8f"
      },
      "execution_count": null,
      "outputs": [
        {
          "output_type": "stream",
          "name": "stdout",
          "text": [
            "alda\n",
            "Non ho capito.\n",
            "ciao\n",
            "Ciao, sono Eliza dal dipartimento di Scienze per la qualità della vita, come posso aiutarti\n",
            "arrivederci\n",
            "Arrivederci!\n"
          ]
        }
      ]
    }
  ]
}