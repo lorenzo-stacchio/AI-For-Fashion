{
  "nbformat": 4,
  "nbformat_minor": 0,
  "metadata": {
    "colab": {
      "name": "02_Python_programming_AIF.ipynb",
      "provenance": [],
      "collapsed_sections": [],
      "toc_visible": true
    },
    "kernelspec": {
      "name": "python3",
      "display_name": "Python 3"
    },
    "language_info": {
      "name": "python"
    }
  },
  "cells": [
    {
      "cell_type": "markdown",
      "metadata": {
        "id": "SWJsHuisd-Ss"
      },
      "source": [
        "# Introduzione ai Notebook e Google Colab"
      ]
    },
    {
      "cell_type": "markdown",
      "metadata": {
        "id": "2mMrQN8cZ6Yj"
      },
      "source": [
        "<p><img alt=\"Colaboratory logo\" height=\"50px\" src=\"https://cdn3.iconfinder.com/data/icons/logos-and-brands-adobe/512/267_Python-512.png\" align=\"left\" hspace=\"5px\" vspace=\"0px\"></p>\n",
        "\n",
        "<h1>Notebook di programmazione python</h1>\n",
        "\n",
        "Questo <b>Notebook</b> vi introdurrà alle meraviglie del linguaggio di programmazione <b>Python</b>! \n",
        "\n",
        "La prima domanda che vi porrete sarà: <b>cos'è un notebook python?</b>"
      ]
    },
    {
      "cell_type": "markdown",
      "metadata": {
        "id": "7Kt3F6Tnb5Kj"
      },
      "source": [
        "<p><img alt=\"Colaboratory logo\" height=\"50px\" src=\"https://upload.wikimedia.org/wikipedia/commons/thumb/3/38/Jupyter_logo.svg/1200px-Jupyter_logo.svg.png\" align=\"left\" hspace=\"5px\" vspace=\"0px\"></p>\n",
        "\n",
        "<h1>Jupyter Notebook</h1>\n",
        "\n",
        "[Jupyter Notebook](https://jupyter.org/) è una applicazione web gratuita che consente di creare e condividere documenti che contengono codice, equazioni, visualizzazioni dati e testo formattato. \n",
        "\n",
        "I notebook sono molto potenti sia per la didattica ma anche per la prototipazione di software. Infatti, i Notebook di **isolare l'esecuzione di alcuni pezzi di codice** ed è quindi ottimo per testare nuovo codice senza dover rieseguire per forza tutto il codice già scritto!\n",
        "\n",
        "Inoltre, I notebook permettono di intergrare facilmente diversi strumenti per i Big Data come **[Apache Spark](https://spark.apache.org/) e librerie come [pandas](https://pandas.pydata.org/), [scikit-learn](https://scikit-learn.org/stable/), [TensorFlow](https://www.tensorflow.org/), [PyTorch](https://pytorch.org/)**.\n",
        "\n",
        "Tuttavia, il vantaggio più utile fornito dai Notebook è che possono essere eseguiti su una pagina web tramite **l'utilizzo di Google Colaboratory**, piattaforma in cui vi trovate in questo momento!"
      ]
    },
    {
      "cell_type": "markdown",
      "metadata": {
        "id": "QN41DwaaaS2q"
      },
      "source": [
        "<p><img alt=\"Colaboratory logo\" height=\"45px\" src=\"/img/colab_favicon.ico\" align=\"left\" hspace=\"10px\" vspace=\"0px\"></p>\n",
        "\n",
        "<h1>Cos'è Colaboratory?</h1>\n",
        "\n",
        "Colaboratory o, in breve, \"Colab\" ti permette di scrivere ed eseguire codice Python nel tuo browser con i seguenti vantaggi:\n",
        "- Nessuna configurazione necessaria\n",
        "- Accesso gratuito alle GPU\n",
        "- Condivisione semplificata\n",
        "\n",
        "Che tu sia <strong>studente</strong>, <strong>data scientist</strong> o <strong>ricercatore AI</strong>, Colab può semplificarti il lavoro. Guarda <a href=\"https://www.youtube.com/watch?v=inN8seMm7UI\">questo video introduttivo su Colab</a> per ulteriori informazioni oppure inizia qui sotto."
      ]
    },
    {
      "cell_type": "markdown",
      "metadata": {
        "id": "ASzEsz8GdzbU"
      },
      "source": [
        "# La nostra prima riga di codice: print(\"Hello world\")"
      ]
    },
    {
      "cell_type": "code",
      "metadata": {
        "colab": {
          "base_uri": "https://localhost:8080/"
        },
        "id": "bxOycP9dZ28a",
        "outputId": "c5fe6c3e-5033-4ba7-acd3-1f35f4007d64"
      },
      "source": [
        "# Questo è un commento. Potete utilizzarlo per ricordavi a che scopo avete effettuato una riga di codice o cosa volete ottenere dalla stessa.\n",
        "# Potete fare anche commenti su più linee in questo modo!\n",
        "# Scriviamo la nostra prima riga di codice!\n",
        "\n",
        "print(\"Hello World\") # stampa a video la stringa \"Hello World Lorenzo\""
      ],
      "execution_count": 2,
      "outputs": [
        {
          "output_type": "stream",
          "name": "stdout",
          "text": [
            "Hello World\n"
          ]
        }
      ]
    },
    {
      "cell_type": "markdown",
      "metadata": {
        "id": "BYLQXDfOsbo6"
      },
      "source": [
        "# Variabili, valori e tipi"
      ]
    },
    {
      "cell_type": "markdown",
      "metadata": {
        "id": "ptuHY_t0BoJm"
      },
      "source": [
        "## Valori e tipi"
      ]
    },
    {
      "cell_type": "code",
      "metadata": {
        "colab": {
          "base_uri": "https://localhost:8080/"
        },
        "id": "tTEZsc9ABskk",
        "outputId": "e6fa78a4-032f-4185-9b85-3dcbacb23708"
      },
      "source": [
        "# Il metodo type permette di identificare il tipo di un certo valore \n",
        "print(type(\"Hello World\")) # valore di tipo stringa\n",
        "\n",
        "print(type(2)) # valore di tipo numerico: intero\n",
        "\n",
        "print(type(3.4)) # valore di tipo numerico: float\n",
        "\n",
        "print(type(2+2)) # la somma tra due interi genera sempre un intero\n",
        "\n"
      ],
      "execution_count": 3,
      "outputs": [
        {
          "output_type": "stream",
          "name": "stdout",
          "text": [
            "<class 'str'>\n",
            "<class 'int'>\n",
            "<class 'float'>\n",
            "<class 'int'>\n"
          ]
        }
      ]
    },
    {
      "cell_type": "code",
      "metadata": {
        "colab": {
          "base_uri": "https://localhost:8080/"
        },
        "id": "zRQFpbfpC50j",
        "outputId": "beb98937-ee03-44cd-ee6f-ca48824b0d7e"
      },
      "source": [
        "# Casting implicito\n",
        "\n",
        "print(2+3.4) # 5.5\n",
        "\n",
        "print(type(2+3.4)) # la somma tra un intero e un float genera sempre un float\n",
        "\n",
        "# Casting esplicito\n",
        "\n",
        "print(int(2+3.4)) # la somma tra un intero e un float genera sempre un float a meno che non chiediamo di prendere solo la parte intera\n",
        "\n",
        "print(type(int(2+3.4)))\n",
        "\n"
      ],
      "execution_count": 4,
      "outputs": [
        {
          "output_type": "stream",
          "name": "stdout",
          "text": [
            "5.4\n",
            "<class 'float'>\n",
            "5\n",
            "<class 'int'>\n"
          ]
        }
      ]
    },
    {
      "cell_type": "markdown",
      "metadata": {
        "id": "eo30hRrFnvdF"
      },
      "source": [
        "## Variabili"
      ]
    },
    {
      "cell_type": "code",
      "metadata": {
        "colab": {
          "base_uri": "https://localhost:8080/"
        },
        "id": "UeYZriAVGgcH",
        "outputId": "b12f81f9-a0dd-4c48-a1d3-d6d19bac5723"
      },
      "source": [
        "nome = \"Lorenzo\" # assegno il valore Lorenzo alla variabile nome\n",
        "pi = 3.14\n",
        "eulero = 2.71\n",
        "\n",
        "print(nome, type(nome)) # tipo string\n",
        "print(pi, type(pi)) # tipo string\n",
        "print(eulero, type(eulero)) # tipo string"
      ],
      "execution_count": 5,
      "outputs": [
        {
          "output_type": "stream",
          "name": "stdout",
          "text": [
            "Lorenzo <class 'str'>\n",
            "3.14 <class 'float'>\n",
            "2.71 <class 'float'>\n"
          ]
        }
      ]
    },
    {
      "cell_type": "code",
      "metadata": {
        "colab": {
          "base_uri": "https://localhost:8080/"
        },
        "id": "r-nqY3liHZxT",
        "outputId": "12719304-9948-4afe-8c0a-503a0f5523b0"
      },
      "source": [
        "# Dynamic typing\n",
        "\n",
        "nome = 2 # ri-assegno la variabile nome col valore 2\n",
        "\n",
        "print(nome, type(nome)) # tipo intero"
      ],
      "execution_count": 6,
      "outputs": [
        {
          "output_type": "stream",
          "name": "stdout",
          "text": [
            "2 <class 'int'>\n"
          ]
        }
      ]
    },
    {
      "cell_type": "code",
      "metadata": {
        "colab": {
          "base_uri": "https://localhost:8080/"
        },
        "id": "P_uBk9GwG6MD",
        "outputId": "e3eb2f3b-d4b9-464a-d73e-1fdf94adb351"
      },
      "source": [
        "# Per assegnare nomi di variabili multi parola si usa la notazione snake_case. Potete usarne anche altre ma questa è quella ufficiale di Python.\n",
        "\n",
        "nome_di_variabile_con_molte_parole = \"boomer\"\n",
        "\n",
        "print(nome_di_variabile_con_molte_parole, type(nome_di_variabile_con_molte_parole))"
      ],
      "execution_count": 7,
      "outputs": [
        {
          "output_type": "stream",
          "name": "stdout",
          "text": [
            "boomer <class 'str'>\n"
          ]
        }
      ]
    },
    {
      "cell_type": "code",
      "metadata": {
        "colab": {
          "base_uri": "https://localhost:8080/"
        },
        "id": "5wwx9qcyH-gg",
        "outputId": "b4a5a82e-6995-4e85-c281-b66817f8ba82"
      },
      "source": [
        "# Somma tra pi ed eulero\n",
        "\n",
        "pi_somma_eulero = pi + eulero\n",
        "\n",
        "print(pi_somma_eulero,type(pi_somma_eulero))"
      ],
      "execution_count": 8,
      "outputs": [
        {
          "output_type": "stream",
          "name": "stdout",
          "text": [
            "5.85 <class 'float'>\n"
          ]
        }
      ]
    },
    {
      "cell_type": "code",
      "metadata": {
        "colab": {
          "base_uri": "https://localhost:8080/",
          "height": 200
        },
        "id": "3kvetmskl25Y",
        "outputId": "c3dc5f8d-d0d9-4b39-f179-4069e358d55a"
      },
      "source": [
        "# Si può cancellare una variabile dalla memoria con il comando del\n",
        "\n",
        "del pi_somma_eulero\n",
        "\n",
        "print(pi_somma_eulero) # Error"
      ],
      "execution_count": 9,
      "outputs": [
        {
          "output_type": "error",
          "ename": "NameError",
          "evalue": "ignored",
          "traceback": [
            "\u001b[0;31m---------------------------------------------------------------------------\u001b[0m",
            "\u001b[0;31mNameError\u001b[0m                                 Traceback (most recent call last)",
            "\u001b[0;32m<ipython-input-9-d9037877788f>\u001b[0m in \u001b[0;36m<module>\u001b[0;34m()\u001b[0m\n\u001b[1;32m      3\u001b[0m \u001b[0;32mdel\u001b[0m \u001b[0mpi_somma_eulero\u001b[0m\u001b[0;34m\u001b[0m\u001b[0;34m\u001b[0m\u001b[0m\n\u001b[1;32m      4\u001b[0m \u001b[0;34m\u001b[0m\u001b[0m\n\u001b[0;32m----> 5\u001b[0;31m \u001b[0mprint\u001b[0m\u001b[0;34m(\u001b[0m\u001b[0mpi_somma_eulero\u001b[0m\u001b[0;34m)\u001b[0m \u001b[0;31m# Error\u001b[0m\u001b[0;34m\u001b[0m\u001b[0;34m\u001b[0m\u001b[0m\n\u001b[0m",
            "\u001b[0;31mNameError\u001b[0m: name 'pi_somma_eulero' is not defined"
          ]
        }
      ]
    },
    {
      "cell_type": "markdown",
      "metadata": {
        "id": "y77I9crPKb4L"
      },
      "source": [
        "## Valutazione delle espressioni e composizioni\n",
        "\n"
      ]
    },
    {
      "cell_type": "code",
      "metadata": {
        "id": "BN2yNwQ5KbS-"
      },
      "source": [
        "cento = 100\n",
        "cinque = 5\n",
        "sei = 6"
      ],
      "execution_count": null,
      "outputs": []
    },
    {
      "cell_type": "code",
      "metadata": {
        "colab": {
          "base_uri": "https://localhost:8080/"
        },
        "id": "SnNCnq1QK95y",
        "outputId": "c39e5932-849d-4bff-9aad-ba5aafb0208b"
      },
      "source": [
        "# Moltiplicazioni e divisioni\n",
        "print(cento*cinque/sei) # 83.33"
      ],
      "execution_count": null,
      "outputs": [
        {
          "output_type": "stream",
          "name": "stdout",
          "text": [
            "83.33333333333333\n",
            "83.33333333333334\n"
          ]
        }
      ]
    },
    {
      "cell_type": "code",
      "source": [
        "print(cento/sei*cinque) # cosa succede al risultato?"
      ],
      "metadata": {
        "id": "FJxm7vXPX97h"
      },
      "execution_count": null,
      "outputs": []
    },
    {
      "cell_type": "code",
      "metadata": {
        "colab": {
          "base_uri": "https://localhost:8080/"
        },
        "id": "r_xIXDsWK98y",
        "outputId": "b3589b8b-4e19-4b39-da46-f2c2f5527393"
      },
      "source": [
        "# Grazie alla priorità anche questo risultato non cambia\n",
        "print(cento+sei*cinque)\n",
        "print(cento+cinque*sei)\n",
        "\n",
        "# Se usiamo le parentesi si\n",
        "print((cento+cinque)*sei)\n"
      ],
      "execution_count": null,
      "outputs": [
        {
          "output_type": "stream",
          "name": "stdout",
          "text": [
            "130\n",
            "130\n",
            "630\n"
          ]
        }
      ]
    },
    {
      "cell_type": "markdown",
      "metadata": {
        "id": "dWlzhzuH-SMI"
      },
      "source": [
        "## Operatore modulo\n",
        "\n",
        "L'operatore `%` è un operatore molto utile poichè ci consente di avere il resto della divisione intera tra due operandi!"
      ]
    },
    {
      "cell_type": "code",
      "metadata": {
        "colab": {
          "base_uri": "https://localhost:8080/"
        },
        "id": "H1ba9_Q9-TeS",
        "outputId": "dc4feb98-8574-4e4e-956e-f592319b4ce8"
      },
      "source": [
        "print(5%3) # il resto intero tra 5 e 3 è pari a 2\n",
        "\n",
        "print(4%3) # il resto intero tra 5 e 4 è pari a 1\n",
        "\n",
        "print(3%3) # il resto intero tra 3 e 3 è pari a 9\n",
        "\n",
        "print(1%3) # il resto intero tra 1 e 3 è pari a 1"
      ],
      "execution_count": null,
      "outputs": [
        {
          "output_type": "stream",
          "name": "stdout",
          "text": [
            "2\n",
            "1\n",
            "0\n",
            "1\n"
          ]
        }
      ]
    },
    {
      "cell_type": "markdown",
      "metadata": {
        "id": "bhPaKOrBPujr"
      },
      "source": [
        "## Molte delle istruzioni che abbiamo visto sono in realtà compisizioni\n",
        "\n",
        "```\n",
        "print(cento/sei*cinque) # è una composizione\n",
        "```\n",
        "\n",
        "\n",
        "Ordine delle operazioni:\n",
        "1. cento/sei\n",
        "2. risultato di 1 viene moltiplicato per 5. \n",
        "3. stampa del risultato di 2. \n"
      ]
    },
    {
      "cell_type": "markdown",
      "metadata": {
        "id": "Pgeli4qHpS_H"
      },
      "source": [
        "# Operatori Booleani\n",
        "\n",
        "Gli operatori fondamentali sono:\n",
        "\n",
        "\n",
        "\n",
        "\n",
        "*   ``` and ```\n",
        "*  ``` or ```\n",
        "*  ``` not ```\n",
        "\n",
        "\n"
      ]
    },
    {
      "cell_type": "code",
      "metadata": {
        "colab": {
          "base_uri": "https://localhost:8080/"
        },
        "id": "jMzrT8nBpVDd",
        "outputId": "74f7924a-d1d1-4c6a-abad-65ac96f2828a"
      },
      "source": [
        "oggi_piove = True\n",
        "\n",
        "ho_una_maglietta_blu = False\n",
        "\n",
        "sto_facendo_un_corso = True\n",
        "\n",
        "\n",
        "oggi_piove_E_ho_una_maglietta_blu = oggi_piove and ho_una_maglietta_blu\n",
        "\n",
        "oggi_piove_OPPURE_sto_facendo_un_corso = oggi_piove and sto_facendo_un_corso\n",
        "\n",
        "non_ho_una_maglietta_blu = not(ho_una_maglietta_blu)\n",
        "\n",
        "\n",
        "print(\"E' vero che oggi piove e ho una maglietta blu?\", oggi_piove_E_ho_una_maglietta_blu)\n",
        "\n",
        "print(\"E' vero che oggi piove oppure sto facendo un corso?\", oggi_piove_E_ho_una_maglietta_blu)\n",
        "\n",
        "print(\"E' vero che non ho una maglietta blu?\", non_ho_una_maglietta_blu)"
      ],
      "execution_count": null,
      "outputs": [
        {
          "output_type": "stream",
          "name": "stdout",
          "text": [
            "E' vero che oggi piove e ho una maglietta blu? False\n",
            "E' vero che oggi piove oppure sto facendo un corso? False\n",
            "E' vero che non ho una maglietta blu? True\n"
          ]
        }
      ]
    },
    {
      "cell_type": "markdown",
      "metadata": {
        "id": "3kcRyJSEzEHH"
      },
      "source": [
        "## Valori di verità False"
      ]
    },
    {
      "cell_type": "code",
      "metadata": {
        "colab": {
          "base_uri": "https://localhost:8080/"
        },
        "id": "F0c_Rg-XzDl4",
        "outputId": "53ba90a5-91e3-440c-9b7a-1c5e7553725b"
      },
      "source": [
        "# Per convertire una qualunque variabile al tipo Booleano basta usare il cast bool()\n",
        "\n",
        "None_bool = bool(None) # None è False\n",
        "print(None_bool) \n",
        "\n",
        "print(False) # False è già booleano\n",
        "\n",
        "empty_string_bool = bool('')\n",
        "print(empty_string_bool) # False è già booleano\n",
        "\n",
        "# E anche tutte le rappresentazioni vuote di sequenze e dizionari sono False\n",
        "tupla_vuota = bool(()) # le parentesti interne indicano la tupla vuota\n",
        "lista_vuota = bool([])  # le parentesti quadre indicano la lista vuota\n",
        "dizionario_vuoto = bool({}) # le parentsi graffe indicano il dizionario vuoto\n",
        "\n",
        "print(tupla_vuota, lista_vuota, dizionario_vuoto)"
      ],
      "execution_count": null,
      "outputs": [
        {
          "output_type": "stream",
          "name": "stdout",
          "text": [
            "False\n",
            "False\n",
            "False\n",
            "False False False\n"
          ]
        }
      ]
    },
    {
      "cell_type": "markdown",
      "metadata": {
        "id": "zctE8YrBO271"
      },
      "source": [
        "# Espressioni su stringhe"
      ]
    },
    {
      "cell_type": "code",
      "metadata": {
        "colab": {
          "base_uri": "https://localhost:8080/"
        },
        "id": "ROBC3YMSO4xF",
        "outputId": "708b9827-3319-4055-c174-6ad598118a54"
      },
      "source": [
        "print(\"banana\" + \"frutta\")\n",
        "\n",
        "print(\"banana\" * 3)"
      ],
      "execution_count": null,
      "outputs": [
        {
          "output_type": "stream",
          "name": "stdout",
          "text": [
            "bananafrutta\n",
            "bananabananabanana\n"
          ]
        }
      ]
    },
    {
      "cell_type": "markdown",
      "metadata": {
        "id": "9uCeTQbqniVz"
      },
      "source": [
        "# Prendere dei valori in input dalla tastiera\n",
        "\n"
      ]
    },
    {
      "cell_type": "code",
      "metadata": {
        "colab": {
          "base_uri": "https://localhost:8080/"
        },
        "id": "dM5TrzqSnfl1",
        "outputId": "c183d260-ca27-405d-b937-28941503c661"
      },
      "source": [
        "# Possiamo usare la funzione input() per fornire al nostro software dei valori tramite tastiera\n",
        "\n",
        "nome = input('Inserisci il tuo nome: ') # assegniamo l'input alla variabile nome\n",
        "\n",
        "print(\"Hello World \", nome) # Stampiamo a video la stringa \"Hello World\" seguita dal nome fornito dall'input!"
      ],
      "execution_count": null,
      "outputs": [
        {
          "output_type": "stream",
          "name": "stdout",
          "text": [
            "Inserisci il tuo nome: 5\n",
            "Hello World 5\n"
          ]
        }
      ]
    },
    {
      "cell_type": "markdown",
      "source": [
        "# Primo gruppo di esercizi "
      ],
      "metadata": {
        "id": "uehx1GLVaxjp"
      }
    },
    {
      "cell_type": "markdown",
      "metadata": {
        "id": "Yt1XSEwOMB89"
      },
      "source": [
        "## Primo esercizio\n",
        "\n",
        "Consegna: prendi come input da tastiera il tuo nome e la tua età e stampale!\n"
      ]
    },
    {
      "cell_type": "code",
      "metadata": {
        "colab": {
          "base_uri": "https://localhost:8080/"
        },
        "id": "u-fP-wJ0MID-",
        "outputId": "201e7475-ad56-48ce-f33b-2852ff7c9403"
      },
      "source": [
        "nome = input('Inserisci il tuo nome: ') # assegniamo l'input alla variabile nome\n",
        "\n",
        "########## Il tuo codice inizia qui ##########\n",
        "eta = None\n",
        "\n",
        "\n",
        "########## Il tuo codice finisce qui ##########"
      ],
      "execution_count": null,
      "outputs": [
        {
          "output_type": "stream",
          "name": "stdout",
          "text": [
            "Inserisci il tuo numero intero: 5\n",
            "None <class 'NoneType'>\n"
          ]
        }
      ]
    },
    {
      "cell_type": "markdown",
      "metadata": {
        "id": "xOOwEGqjv5Zw"
      },
      "source": [
        "## Secondo esercizio\n",
        "\n",
        "Dati due numeri in input, verifica se il primo è maggiore uguale al secondo"
      ]
    },
    {
      "cell_type": "code",
      "metadata": {
        "id": "3R3lzAbawCRv"
      },
      "source": [
        "def primo_numero_maggiore_uguale_numero2(numero1,numero2):\n",
        "  ########## Il tuo codice inizia qui ##########\n",
        "  return None\n",
        "  ########## Il tuo codice finisce qui ##########"
      ],
      "execution_count": null,
      "outputs": []
    },
    {
      "cell_type": "code",
      "metadata": {
        "colab": {
          "base_uri": "https://localhost:8080/"
        },
        "id": "miWynNSZwKgN",
        "outputId": "fbd2f339-18b0-4ac6-96c1-6c3f5abbff1f"
      },
      "source": [
        "numero_1 = int(input('Inserisci il primo numero intero: ')) # castiamo a intero per evitare di inserire valori illegali\n",
        "numero_2 = int(input('Inserisci il secondo numero intero: ')) # castiamo a intero per evitare di inserire valori illegali\n",
        "\n",
        "numero_1_maggiore_numero_2 = primo_numero_maggiore_uguale_numero2(numero_1,numero_2)\n",
        "\n",
        "if numero_1_maggiore_numero_2 == None: \n",
        "  raise NotImplementedError(\"Non hai implementato la funzione primo_numero_maggiore_uguale_numero2\")\n",
        "\n",
        "print(numero_1, \" >= \", numero_2, \"?  \", numero_1_maggiore_numero_2)"
      ],
      "execution_count": null,
      "outputs": [
        {
          "output_type": "stream",
          "name": "stdout",
          "text": [
            "Inserisci il primo numero intero: 5\n",
            "Inserisci il secondo numero intero: 10\n",
            "5  >=  10 ?   5\n"
          ]
        }
      ]
    },
    {
      "cell_type": "markdown",
      "metadata": {
        "id": "jPOCwS83U6Iu"
      },
      "source": [
        "# Funzioni"
      ]
    },
    {
      "cell_type": "code",
      "metadata": {
        "colab": {
          "base_uri": "https://localhost:8080/"
        },
        "id": "0cmP5J4WZ7TD",
        "outputId": "6df9f41b-90db-4116-cfa0-8e334e4a8465"
      },
      "source": [
        "# La nostra prima funzione: la somma!\n",
        "\n",
        "def somma(numero_intero_1,numero_intero_2):\n",
        "    valore_somma = numero_intero_1 + numero_intero_2\n",
        "    return valore_somma\n",
        "  \n",
        "print(somma(5,7))\n",
        "\n",
        "print(somma(10,128))\n",
        "\n",
        "print(somma(10,3*5))"
      ],
      "execution_count": null,
      "outputs": [
        {
          "output_type": "stream",
          "name": "stdout",
          "text": [
            "12\n",
            "138\n",
            "25\n"
          ]
        }
      ]
    },
    {
      "cell_type": "code",
      "metadata": {
        "colab": {
          "base_uri": "https://localhost:8080/"
        },
        "id": "4rmq6KdyaMCa",
        "outputId": "1bf3acc1-216b-4a69-903c-215ba6ede027"
      },
      "source": [
        "numero_1 = int(input('Inserisci il primo addendo: ')) # castiamo a intero per evitare di inserire valori illegali\n",
        "numero_2 = int(input('Inserisci il secondo addendo: ')) # castiamo a intero per evitare di inserire valori illegali\n",
        "\n",
        "print(\"La somma tra %s e %s fa: %s\" % (numero_1, numero_2,somma(numero_1,numero_2)))\n"
      ],
      "execution_count": null,
      "outputs": [
        {
          "output_type": "stream",
          "name": "stdout",
          "text": [
            "Inserisci il primo addendo: 5\n",
            "Inserisci il secondo addendo: 2\n",
            "La somma tra 5 e 2 fa: 7\n"
          ]
        }
      ]
    },
    {
      "cell_type": "markdown",
      "metadata": {
        "id": "bjM5TIyaa5Ja"
      },
      "source": [
        "## Esercizio funzioni algebriche\n",
        "\n",
        "Consegna: definire tre funzione \"sottrazione\", \"divisione\" e \"moltiplicazione!\" che effettuino le rispettive operazioni tra due numeri interi."
      ]
    },
    {
      "cell_type": "code",
      "metadata": {
        "colab": {
          "base_uri": "https://localhost:8080/"
        },
        "id": "gfmpFYiGbGuX",
        "outputId": "64d6d0da-c3f1-49c9-a074-d1c34f43c696"
      },
      "source": [
        "########## Il tuo codice inizia qui ##########\n",
        "\n",
        "def sottrazione(numero_intero_1,numero_intero_2):\n",
        "    valore_sottrazione = numero_intero_1 - numero_intero_2\n",
        "    return valore_sottrazione\n",
        "\n",
        "\n",
        "def divisione(numero_intero_1,numero_intero_2):\n",
        "    valore_divisione = None\n",
        "    return valore_divisione\n",
        "\n",
        "def moltiplicazione(numero_intero_1,numero_intero_2):\n",
        "    valore_moltiplicazione = None\n",
        "    return valore_moltiplicazione\n",
        "\n",
        "########## Il tuo codice finisce qui ##########\n",
        "\n",
        "\n",
        "test_sottrazione = sottrazione(5,7)\n",
        "\n",
        "test_divisione = divisione(30,5)\n",
        "\n",
        "test_moltiplicazione = moltiplicazione(3,5)\n",
        "\n",
        "# Controlliamo le vostre implementazioni\n",
        "if not test_sottrazione or test_sottrazione != -2:\n",
        "      raise NotImplementedError(\"Non hai implementato correttamente la sottrazione\")\n",
        "\n",
        "if not test_divisione or test_divisione != 6:\n",
        "      raise NotImplementedError(\"Non hai implementato correttamente la divisione\")\n",
        "\n",
        "if not test_moltiplicazione or test_moltiplicazione != 15:\n",
        "      raise NotImplementedError(\"Non hai implementato correttamente la moltiplicazione\")\n",
        "\n",
        "\n",
        "print(\"Complimenti, hai implementato tutte le funzioni richieste da un algebra di base!\")\n"
      ],
      "execution_count": null,
      "outputs": [
        {
          "output_type": "stream",
          "name": "stdout",
          "text": [
            "Complimenti, hai implementato tutte le funzioni richieste da un algebra di base!\n"
          ]
        }
      ]
    },
    {
      "cell_type": "markdown",
      "metadata": {
        "id": "eeLXhfIq44Pa"
      },
      "source": [
        "## Compisizione di funzioni\n",
        "\n",
        "Possiamo ovviamente comporre l'esecuzione di più funzioni!\n",
        "\n",
        "\n",
        "```\n",
        "sottrazione(somma(3,4),7)\n",
        "```\n",
        "\n",
        "\n",
        "equivarebbe a effettuare le seguenti operazioni:\n",
        "\n",
        "\n",
        "```\n",
        "(3+4) - 7 = 0\n",
        "```\n",
        "\n",
        "Si effettuano le operazioni seguendo quello che viene definita [**valutazione Eager**](https://it.wikipedia.org/wiki/Valutazione_eager#:~:text=Nella%20programmazione%2C%20la%20valutazione%20eager,espressione%20che%20da%20essa%20dipende.):\n",
        "\n",
        "\n",
        "1.   Si valutano prima gli argomenti della funzione **sottrazione**, ossia **somma(3,4)** e **7**;\n",
        "2.   Per valutare somma(3,4) dobbiamo eseguire la funzione da essa definita, che ritorna il valore 7;\n",
        "3. A questo punto, prendiamo il valore 7 e lo sottraiamo a 7, ottenendo 0.\n",
        "\n",
        "\n",
        "\n",
        "\n",
        "\n"
      ]
    },
    {
      "cell_type": "code",
      "metadata": {
        "colab": {
          "base_uri": "https://localhost:8080/"
        },
        "id": "Orokw69943j2",
        "outputId": "57d5dd46-a8da-4600-bcb8-1c9d3d2d547d"
      },
      "source": [
        "composizione_somma_sottrazione = sottrazione(somma(3,4),7)\n",
        "print(composizione_somma_sottrazione)"
      ],
      "execution_count": null,
      "outputs": [
        {
          "output_type": "stream",
          "name": "stdout",
          "text": [
            "0\n"
          ]
        }
      ]
    },
    {
      "cell_type": "markdown",
      "metadata": {
        "id": "D-D1dhgt-icI"
      },
      "source": [
        "## Esempi libreria o modulo Math"
      ]
    },
    {
      "cell_type": "code",
      "metadata": {
        "id": "KaNA2CmH-l2w"
      },
      "source": [
        "import math # importiamo la nostra prima libreria"
      ],
      "execution_count": null,
      "outputs": []
    },
    {
      "cell_type": "markdown",
      "metadata": {
        "id": "HGQqqFmvC9Oo"
      },
      "source": [
        "<img width=\"300\" src=\"data:image/png;base64,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\">"
      ]
    },
    {
      "cell_type": "code",
      "metadata": {
        "colab": {
          "base_uri": "https://localhost:8080/"
        },
        "id": "8G-gUskv-q2T",
        "outputId": "8c9dc0b5-e890-41cf-c426-4461f48810b9"
      },
      "source": [
        "gradi = 90\n",
        "print(\"Il seno di un angolo di 90 gradi è: \", int(math.sin(math.radians(gradi))))\n",
        "print(\"Il coseno di un angolo di 90 gradi è: \", int(math.cos(math.radians(gradi))))\n"
      ],
      "execution_count": null,
      "outputs": [
        {
          "output_type": "stream",
          "name": "stdout",
          "text": [
            "1\n",
            "0\n"
          ]
        }
      ]
    },
    {
      "cell_type": "code",
      "metadata": {
        "colab": {
          "base_uri": "https://localhost:8080/"
        },
        "id": "oySsiC2fVew1",
        "outputId": "c75a0acb-e90b-4042-f1ff-0d9631e3b51e"
      },
      "source": [
        "gradi = 0\n",
        "print(\"Il seno di un angolo di 0 gradi è: \", int(math.sin(math.radians(gradi))))\n",
        "print(\"Il coseno di un angolo di 0 gradi è: \", int(math.cos(math.radians(gradi))))\n"
      ],
      "execution_count": null,
      "outputs": [
        {
          "output_type": "stream",
          "name": "stdout",
          "text": [
            "Il seno di un angolo a 0 gradi è:  0\n",
            "Il coseno di un angolo a 0 gradi è:  1\n"
          ]
        }
      ]
    },
    {
      "cell_type": "markdown",
      "metadata": {
        "id": "ng771gLLFv80"
      },
      "source": [
        "# Scope di una variabile"
      ]
    },
    {
      "cell_type": "markdown",
      "metadata": {
        "id": "oSanwTptL5gh"
      },
      "source": [
        "## Variabile globale vs locale"
      ]
    },
    {
      "cell_type": "code",
      "metadata": {
        "id": "_O7U9TFTJlb0"
      },
      "source": [
        "# Siamo a livello 1 della gerarchia di visibilità\n",
        "# variabile con scope globale\n",
        "\n",
        "variabile_globale = \"globale\"\n",
        "\n",
        "def funzione_per_esaminare_scope(variabile_locale_1, variabile_locale_2):\n",
        "  # Siamo a livello 2 della gerarchia di visibilità\n",
        "  variabile_locale_1 = \"locale_1\" # scope locale\n",
        "  variabile_locale_2 = \"locale_2\" # scope locale\n",
        "  print(\"Variabili con scope locali %s\" % [variabile_locale_1,variabile_locale_2])\n",
        "  print(\"Variabili con scope locali %s\" % [variabile_globale])"
      ],
      "execution_count": null,
      "outputs": []
    },
    {
      "cell_type": "code",
      "metadata": {
        "colab": {
          "base_uri": "https://localhost:8080/"
        },
        "id": "6l6K5a8SKCKF",
        "outputId": "d5eb6f17-9043-476e-85f6-43931eb1cbf0"
      },
      "source": [
        "print(variabile_globale) #variabile globale"
      ],
      "execution_count": null,
      "outputs": [
        {
          "output_type": "stream",
          "name": "stdout",
          "text": [
            "globale\n"
          ]
        }
      ]
    },
    {
      "cell_type": "code",
      "metadata": {
        "colab": {
          "base_uri": "https://localhost:8080/"
        },
        "id": "l85mBvjVKJZn",
        "outputId": "25de2771-2057-4946-9d3b-4fb9366bda45"
      },
      "source": [
        "funzione_per_esaminare_scope(variabile_globale,variabile_globale)"
      ],
      "execution_count": null,
      "outputs": [
        {
          "output_type": "stream",
          "name": "stdout",
          "text": [
            "Variabili con scope locali ['locale_1', 'locale_2']\n",
            "Variabili con scope locali ['globale']\n"
          ]
        }
      ]
    },
    {
      "cell_type": "code",
      "metadata": {
        "colab": {
          "base_uri": "https://localhost:8080/",
          "height": 165
        },
        "id": "vZmi9sa2KS16",
        "outputId": "14cf5621-8331-4221-a167-121e3445104a"
      },
      "source": [
        "# La variabile_locale_1 aveva visibilità solo nel livello 2, ora siamo tornatia  livello 1 e non esiste!\n",
        "print(variabile_locale_1)"
      ],
      "execution_count": null,
      "outputs": [
        {
          "output_type": "error",
          "ename": "NameError",
          "evalue": "ignored",
          "traceback": [
            "\u001b[0;31m---------------------------------------------------------------------------\u001b[0m",
            "\u001b[0;31mNameError\u001b[0m                                 Traceback (most recent call last)",
            "\u001b[0;32m<ipython-input-46-9d8b6bccea2c>\u001b[0m in \u001b[0;36m<module>\u001b[0;34m()\u001b[0m\n\u001b[0;32m----> 1\u001b[0;31m \u001b[0mprint\u001b[0m\u001b[0;34m(\u001b[0m\u001b[0mvariabile_locale_1\u001b[0m\u001b[0;34m)\u001b[0m\u001b[0;34m\u001b[0m\u001b[0;34m\u001b[0m\u001b[0m\n\u001b[0m",
            "\u001b[0;31mNameError\u001b[0m: name 'variabile_locale_1' is not defined"
          ]
        }
      ]
    },
    {
      "cell_type": "markdown",
      "metadata": {
        "id": "rBEJqwFIL7rA"
      },
      "source": [
        "## Shadowing di una variabile globale"
      ]
    },
    {
      "cell_type": "code",
      "metadata": {
        "id": "_rFrX37bL-Z4"
      },
      "source": [
        "# Siamo a livello 1 della gerarchia di visibilità\n",
        "# variabile con scope globale\n",
        "\n",
        "variabile_globale = \"globale\"\n",
        "\n",
        "def funzione_per_esaminare_scope(variabile_locale_1, variabile_locale_2):\n",
        "  # Siamo a livello 2 della gerarchia di visibilità\n",
        "  variabile_locale_1 = \"locale_1\" # scope locale\n",
        "  variabile_locale_2 = \"locale_2\" # scope locale\n",
        "  variabile_globale = \"globale_modificata\"\n",
        "  print(\"Variabili con scope locali %s\" % [variabile_locale_1,variabile_locale_2])\n",
        "  print(\"Variabili con scope locali %s\" % [variabile_globale])"
      ],
      "execution_count": null,
      "outputs": []
    },
    {
      "cell_type": "code",
      "metadata": {
        "colab": {
          "base_uri": "https://localhost:8080/"
        },
        "id": "hXQ84fvxMDzH",
        "outputId": "423e406a-8ded-4d04-9194-8334c2358cb2"
      },
      "source": [
        "print(variabile_globale) #variabile globale"
      ],
      "execution_count": null,
      "outputs": [
        {
          "output_type": "stream",
          "name": "stdout",
          "text": [
            "globale\n"
          ]
        }
      ]
    },
    {
      "cell_type": "code",
      "metadata": {
        "colab": {
          "base_uri": "https://localhost:8080/"
        },
        "id": "TO2XanBRMFDj",
        "outputId": "85e1b240-ef9d-46ff-f7ec-266c2a0d7c41"
      },
      "source": [
        "funzione_per_esaminare_scope(variabile_globale,variabile_globale)"
      ],
      "execution_count": null,
      "outputs": [
        {
          "output_type": "stream",
          "name": "stdout",
          "text": [
            "Variabili con scope locali ['locale_1', 'locale_2']\n",
            "Variabili con scope locali ['globale_modificata']\n"
          ]
        }
      ]
    },
    {
      "cell_type": "code",
      "metadata": {
        "colab": {
          "base_uri": "https://localhost:8080/"
        },
        "id": "oLquQzxOMGKi",
        "outputId": "78aea14d-e352-46b2-e2a3-7e5244238363"
      },
      "source": [
        "print(variabile_globale) #variabile globale"
      ],
      "execution_count": null,
      "outputs": [
        {
          "output_type": "stream",
          "name": "stdout",
          "text": [
            "globale\n"
          ]
        }
      ]
    },
    {
      "cell_type": "markdown",
      "metadata": {
        "id": "OQyyoHlYTrYw"
      },
      "source": [
        "# Strutture dati\n",
        "\n",
        "In questa sezione impararemo a costruire e manipolare le quattro strutture dati fondamentali in Python:\n",
        "\n",
        "\n",
        "*  `[Lista]`\n",
        "*  `(Tupla)`\n",
        "*  `{Set}`\n",
        "*  `{'dizio': 'nario'}`\n",
        "\n",
        "\n"
      ]
    },
    {
      "cell_type": "markdown",
      "metadata": {
        "id": "0PxlZeSncHTe"
      },
      "source": [
        "## Liste\n"
      ]
    },
    {
      "cell_type": "code",
      "metadata": {
        "colab": {
          "base_uri": "https://localhost:8080/"
        },
        "id": "Iao8WlPdYV1i",
        "outputId": "a601f170-f123-4c1e-b28a-369e25eb45ca"
      },
      "source": [
        "lista_vuota = []\n",
        "print(lista_vuota)\n",
        "\n",
        "lista_con_interi = [10,20,30]\n",
        "print(lista_con_interi)\n",
        "\n",
        "\n",
        "lista_vuota_utilizzando_classe_callable = list() # classe chiamabile come funzione, come print() e type()\n",
        "print(lista_vuota_utilizzando_classe_callable)"
      ],
      "execution_count": null,
      "outputs": [
        {
          "output_type": "stream",
          "name": "stdout",
          "text": [
            "[]\n",
            "[10, 20, 30]\n",
            "[]\n"
          ]
        }
      ]
    },
    {
      "cell_type": "code",
      "metadata": {
        "colab": {
          "base_uri": "https://localhost:8080/"
        },
        "id": "WrMhw8j_sBQD",
        "outputId": "029c7bfe-8a1c-4cb4-9855-c2075e7755db"
      },
      "source": [
        "# Il costrutto len() indica in generale la lunghezza di una struttura dati, in questo caso la lista\n",
        "\n",
        "print(len(lista_vuota)) # non ho elementi\n",
        "\n",
        "print(len(lista_con_interi)) # ho 3 elementi: 10, 20 e 30"
      ],
      "execution_count": null,
      "outputs": [
        {
          "output_type": "stream",
          "name": "stdout",
          "text": [
            "0\n",
            "3\n"
          ]
        }
      ]
    },
    {
      "cell_type": "markdown",
      "metadata": {
        "id": "ZxFnHCLtrmQT"
      },
      "source": [
        "### Indicizzazione di una lista"
      ]
    },
    {
      "cell_type": "code",
      "metadata": {
        "colab": {
          "base_uri": "https://localhost:8080/"
        },
        "id": "P77bnlsqoPT1",
        "outputId": "d2723432-6c4a-48b8-a352-81945d004fd8"
      },
      "source": [
        "lista_con_interi = [10,20,30]\n",
        "\n",
        "# accedo al primo e al secondo elemento, ricordate che si parte da zero!\n",
        "print(\"L'elemento con indice zero è:\", lista_con_interi[0])\n",
        "print(\"L'elemento con indice uno è:\", lista_con_interi[0])"
      ],
      "execution_count": null,
      "outputs": [
        {
          "output_type": "stream",
          "name": "stdout",
          "text": [
            "L'elemento con indice zero è: 10\n",
            "L'elemento con indice uno è: 10\n"
          ]
        }
      ]
    },
    {
      "cell_type": "code",
      "metadata": {
        "colab": {
          "base_uri": "https://localhost:8080/"
        },
        "id": "O0f5DmC8sqhx",
        "outputId": "3d1c360c-e5d0-4ab8-f84d-9863dda2594a"
      },
      "source": [
        "# accedo all'ultimo elemento della lista e al penultimo, usando la notazione negativa e quindi contando al contrario!\n",
        "print(\"L'elemento con indice -1 è:\", lista_con_interi[-1])\n",
        "print(\"L'elemento con indice -2 è:\", lista_con_interi[-2])"
      ],
      "execution_count": null,
      "outputs": [
        {
          "output_type": "stream",
          "name": "stdout",
          "text": [
            "L'elemento con indice -1 è: 30\n",
            "L'elemento con indice -2 è: 20\n"
          ]
        }
      ]
    },
    {
      "cell_type": "markdown",
      "metadata": {
        "id": "xqSdaopTs3Ia"
      },
      "source": [
        "### Indicizzazione di una sottolista\n"
      ]
    },
    {
      "cell_type": "code",
      "metadata": {
        "colab": {
          "base_uri": "https://localhost:8080/"
        },
        "id": "xIRQ0uzzszwD",
        "outputId": "c46c3dac-d2f4-4ca4-f311-79c4b8c225e5"
      },
      "source": [
        "lista_con_interi = [10,20,30]\n",
        "\n",
        "# prendiamo i primi due elementi della lista\n",
        "print(lista_con_interi[:2])# l'indice dopo i : è esclusivo --> in questo caso stiamo prendendo la lista dall'inizio fino all'indice n-1 (in questo caso 2-1)"
      ],
      "execution_count": null,
      "outputs": [
        {
          "output_type": "stream",
          "name": "stdout",
          "text": [
            "[10, 20]\n"
          ]
        }
      ]
    },
    {
      "cell_type": "code",
      "metadata": {
        "colab": {
          "base_uri": "https://localhost:8080/"
        },
        "id": "kwdwuR-HtC8G",
        "outputId": "90cf5125-3ee8-40ac-f7da-46c3d8f89130"
      },
      "source": [
        "print(lista_con_interi[1:2])# l'indice prima dei : è inclusivo, stiamo prendendo la lista da 1 a n-1 (2-1), cioè la lista contenente l'elemento all'indice 1"
      ],
      "execution_count": null,
      "outputs": [
        {
          "output_type": "stream",
          "name": "stdout",
          "text": [
            "[20]\n"
          ]
        }
      ]
    },
    {
      "cell_type": "code",
      "metadata": {
        "colab": {
          "base_uri": "https://localhost:8080/"
        },
        "id": "X-RPz4WKtHRf",
        "outputId": "cc8039da-4f0e-4c19-861d-96bc01969c93"
      },
      "source": [
        "print(lista_con_interi[1:])# come prima, l'indice prima dei : è inclusivo, prendiamo la sotto-lista dall'indice 1 fino alla fine"
      ],
      "execution_count": null,
      "outputs": [
        {
          "output_type": "stream",
          "name": "stdout",
          "text": [
            "[20, 30]\n"
          ]
        }
      ]
    },
    {
      "cell_type": "markdown",
      "metadata": {
        "id": "a3WhQwH4Reh0"
      },
      "source": [
        "### Mutabilità di una lista"
      ]
    },
    {
      "cell_type": "code",
      "metadata": {
        "colab": {
          "base_uri": "https://localhost:8080/"
        },
        "id": "N9CdkyOZRcvz",
        "outputId": "743a3c09-8c75-45e6-f184-c622142ce173"
      },
      "source": [
        "nuova_lista_mista = [1,2,3]\n",
        "\n",
        "print(\"Prima della modifica\", nuova_lista_mista)\n",
        "\n",
        "# posso accedere direttamente ad uno degli elementi e modificarlo\n",
        "\n",
        "nuova_lista_mista[0] = 5 # assegno alla primo elemento il valore 5\n",
        "print(\"Dopo la prima modifica\", nuova_lista_mista)\n",
        "\n",
        "\n",
        "nuova_lista_mista[-1] = 'ciao' # assegno all'ultimo elemento il valore stringa 'ciao'\n",
        "print(\"Dopo la seconda modifica\", nuova_lista_mista)\n"
      ],
      "execution_count": null,
      "outputs": [
        {
          "output_type": "stream",
          "name": "stdout",
          "text": [
            "Prima della modifica [1, 2, 3]\n",
            "Dopo la prima modifica [5, 2, 3]\n",
            "Dopo la seconda modifica [5, 2, 'ciao']\n"
          ]
        }
      ]
    },
    {
      "cell_type": "code",
      "metadata": {
        "colab": {
          "base_uri": "https://localhost:8080/"
        },
        "id": "dbX4ehj4UZ-I",
        "outputId": "7af7895f-e440-42e9-d25b-5704579bf5d0"
      },
      "source": [
        "# Possiamo cancellare un elemento della lista con l'istruzione del seguita dalla lista indicizzata\n",
        "\n",
        "del nuova_lista_mista[0] # elimino il primo elemento della lista\n",
        "print(\"Lista con primo elemento cancellato: \", nuova_lista_mista)\n"
      ],
      "execution_count": null,
      "outputs": [
        {
          "output_type": "stream",
          "name": "stdout",
          "text": [
            "Lista con primo elemento cancellato:  [2, 'ciao']\n"
          ]
        }
      ]
    },
    {
      "cell_type": "markdown",
      "metadata": {
        "id": "B3-Rr_ngR37P"
      },
      "source": [
        "### Metodi per manipolare una lista"
      ]
    },
    {
      "cell_type": "code",
      "metadata": {
        "colab": {
          "base_uri": "https://localhost:8080/"
        },
        "id": "MCNVfyaBR5sM",
        "outputId": "fcc7db1a-0022-4fe4-8da3-da3ce0a31eed"
      },
      "source": [
        "# Continuiamo ad utilizzare la lista mista di prima\n",
        "\n",
        "copia_lista_mista = nuova_lista_mista.copy()# copiamo la lista\n",
        "\n",
        "# aggiungiamo un elemento alla fine con append\n",
        "copia_lista_mista.append(\"ultimo_elemento\")\n",
        "\n",
        "print(\"Lista vecchia: \", nuova_lista_mista )\n",
        "print(\"Lista copiata e manipolata: \", copia_lista_mista )\n"
      ],
      "execution_count": null,
      "outputs": [
        {
          "output_type": "stream",
          "name": "stdout",
          "text": [
            "Lista vecchia:  [5, 2, 'ciao']\n",
            "Lista copiata e manipolata:  [5, 2, 'ciao', 'ultimo_elemento']\n"
          ]
        }
      ]
    },
    {
      "cell_type": "code",
      "metadata": {
        "colab": {
          "base_uri": "https://localhost:8080/"
        },
        "id": "K8FgXPftSUk7",
        "outputId": "7cc5f9b3-9c9a-4306-d0e1-74fd60879196"
      },
      "source": [
        "copia_lista_mista.insert(1,\"nuovo_secondo_elemento\") # aggiungo un nuovo elemento all'indice 1\n",
        "print(\"Lista copiata con insert: \", copia_lista_mista)"
      ],
      "execution_count": null,
      "outputs": [
        {
          "output_type": "stream",
          "name": "stdout",
          "text": [
            "Lista copiata con insert:  [5, 'nuovo_secondo_elemento', 2, 'ciao', 'ultimo_elemento']\n"
          ]
        }
      ]
    },
    {
      "cell_type": "markdown",
      "metadata": {
        "id": "o4EKxb9iUfm3"
      },
      "source": [
        "### Memoria condivisa tra liste\n",
        "\n",
        "Nel caso in cui non utilizzassimo il metodo copy() per copiare una lista in un'altra, potrebbero esserci due variabili che puntano agli stessi oggetti in memoria!"
      ]
    },
    {
      "cell_type": "code",
      "metadata": {
        "colab": {
          "base_uri": "https://localhost:8080/"
        },
        "id": "cVnQC6AiUiEg",
        "outputId": "757c1dcd-7513-4c55-e59c-828cec710351"
      },
      "source": [
        "nuova_lista_1 = [\"C\",\"I\",\"A\",\"O\"]\n",
        "\n",
        "lista_non_copiata_ma_assegnata = nuova_lista_1  # ora  nuova_lista_1 e  lista_non_copiata_ma_assegnata puntano alle stesse zone di memoria condivisa!\n",
        "\n",
        "lista_non_copiata_ma_assegnata.append(\"!\")# se modifico questa, modifico anche nuova_lista_1\n",
        "\n",
        "print(\"nuova_lista_1: \", nuova_lista_1)\n",
        "print(\"lista_non_copiata_ma_assegnata: \", lista_non_copiata_ma_assegnata)"
      ],
      "execution_count": null,
      "outputs": [
        {
          "output_type": "stream",
          "name": "stdout",
          "text": [
            "nuova_lista_1:  ['C', 'I', 'A', 'O', '!']\n",
            "lista_non_copiata_ma_assegnata:  ['C', 'I', 'A', 'O', '!']\n"
          ]
        }
      ]
    },
    {
      "cell_type": "markdown",
      "metadata": {
        "id": "2zsyt6ftim4M"
      },
      "source": [
        "### Liste bidimensionali\n"
      ]
    },
    {
      "cell_type": "code",
      "metadata": {
        "id": "hbUlezmKipSG"
      },
      "source": [
        "lista_con_interi_bidimensionale = [[10,20],[30,40],[50,60]] # creiamo la nostra prima lista bidimensionale"
      ],
      "execution_count": null,
      "outputs": []
    },
    {
      "cell_type": "code",
      "metadata": {
        "colab": {
          "base_uri": "https://localhost:8080/"
        },
        "id": "BbJ9hf4hjhaq",
        "outputId": "36c6876f-e9ba-40a9-d315-d2c9e3cc8d64"
      },
      "source": [
        "# Accediamo al secondo elemento della lista che è una lista!\n",
        "print(lista_con_interi_bidimensionale[1])\n",
        "\n",
        "# Accediamo al primo elemento della seconda sotto-lista!\n",
        "print(lista_con_interi_bidimensionale[1][0])\n"
      ],
      "execution_count": null,
      "outputs": [
        {
          "output_type": "stream",
          "name": "stdout",
          "text": [
            "[30, 40]\n",
            "30\n"
          ]
        }
      ]
    },
    {
      "cell_type": "markdown",
      "metadata": {
        "id": "IiTx3Xiilw7M"
      },
      "source": [
        "## Tuple"
      ]
    },
    {
      "cell_type": "code",
      "metadata": {
        "colab": {
          "base_uri": "https://localhost:8080/"
        },
        "id": "DATmSksll4az",
        "outputId": "db060d5e-6b37-482e-c761-caeec684ba1f"
      },
      "source": [
        "tupla_vuota = ()\n",
        "\n",
        "print(tupla_vuota, type(tupla_vuota))\n",
        "\n",
        "tupla_con_interi = (5,6,7) \n",
        "print(tupla_con_interi)\n",
        "\n",
        "tupla_vuota_utilizzando_classe_callable = tuple()\n",
        "print(tupla_vuota_utilizzando_classe_callable)"
      ],
      "execution_count": null,
      "outputs": [
        {
          "output_type": "stream",
          "name": "stdout",
          "text": [
            "() <class 'tuple'>\n",
            "(5, 6, 7)\n",
            "()\n"
          ]
        }
      ]
    },
    {
      "cell_type": "markdown",
      "metadata": {
        "id": "oSpgicQYp5H8"
      },
      "source": [
        "### Indicizzazione di una tupla"
      ]
    },
    {
      "cell_type": "code",
      "metadata": {
        "colab": {
          "base_uri": "https://localhost:8080/"
        },
        "id": "ao7gFBP5mccb",
        "outputId": "89ad5f09-b035-41a2-8581-a8dfd182f85e"
      },
      "source": [
        "# possiamo indicizzare una tupla\n",
        "tupla_con_interi = (5,6,7) \n",
        "\n",
        "print(tupla_con_interi[0]) # prendiamo un elemento della tupla\n",
        "\n",
        "print(tupla_con_interi[1:]) # slice di una tupla"
      ],
      "execution_count": null,
      "outputs": [
        {
          "output_type": "stream",
          "name": "stdout",
          "text": [
            "5\n",
            "(6, 7)\n"
          ]
        }
      ]
    },
    {
      "cell_type": "markdown",
      "metadata": {
        "id": "Uughg1Fsp1XL"
      },
      "source": [
        "### Immutabilità di una tupla"
      ]
    },
    {
      "cell_type": "code",
      "metadata": {
        "id": "pVw20w1qp_SV"
      },
      "source": [
        "tupla_con_interi = (5,6,7) "
      ],
      "execution_count": null,
      "outputs": []
    },
    {
      "cell_type": "code",
      "metadata": {
        "colab": {
          "base_uri": "https://localhost:8080/",
          "height": 165
        },
        "id": "ZQphRynMqZKC",
        "outputId": "e2f5cf3a-e0d1-4d52-c2ba-bb3938e32a25"
      },
      "source": [
        "tupla_con_interi[0]=1 # errore, non si possono modificare valori"
      ],
      "execution_count": null,
      "outputs": [
        {
          "output_type": "error",
          "ename": "TypeError",
          "evalue": "ignored",
          "traceback": [
            "\u001b[0;31m---------------------------------------------------------------------------\u001b[0m",
            "\u001b[0;31mTypeError\u001b[0m                                 Traceback (most recent call last)",
            "\u001b[0;32m<ipython-input-25-0458ce009c2f>\u001b[0m in \u001b[0;36m<module>\u001b[0;34m()\u001b[0m\n\u001b[0;32m----> 1\u001b[0;31m \u001b[0mtupla_con_interi\u001b[0m\u001b[0;34m[\u001b[0m\u001b[0;36m0\u001b[0m\u001b[0;34m]\u001b[0m\u001b[0;34m=\u001b[0m\u001b[0;36m1\u001b[0m\u001b[0;34m\u001b[0m\u001b[0;34m\u001b[0m\u001b[0m\n\u001b[0m",
            "\u001b[0;31mTypeError\u001b[0m: 'tuple' object does not support item assignment"
          ]
        }
      ]
    },
    {
      "cell_type": "code",
      "metadata": {
        "colab": {
          "base_uri": "https://localhost:8080/",
          "height": 165
        },
        "id": "5GstHn3zq-w6",
        "outputId": "f28bfec6-f24c-4cad-9ab3-0372a18e75f8"
      },
      "source": [
        "del tupla_con_interi[0] # errore, non si possono cancellare valori"
      ],
      "execution_count": null,
      "outputs": [
        {
          "output_type": "error",
          "ename": "TypeError",
          "evalue": "ignored",
          "traceback": [
            "\u001b[0;31m---------------------------------------------------------------------------\u001b[0m",
            "\u001b[0;31mTypeError\u001b[0m                                 Traceback (most recent call last)",
            "\u001b[0;32m<ipython-input-26-1a0fb55b86b4>\u001b[0m in \u001b[0;36m<module>\u001b[0;34m()\u001b[0m\n\u001b[0;32m----> 1\u001b[0;31m \u001b[0;32mdel\u001b[0m \u001b[0mtupla_con_interi\u001b[0m\u001b[0;34m[\u001b[0m\u001b[0;36m0\u001b[0m\u001b[0;34m]\u001b[0m \u001b[0;31m# errore, non si possono modificare valori\u001b[0m\u001b[0;34m\u001b[0m\u001b[0;34m\u001b[0m\u001b[0m\n\u001b[0m",
            "\u001b[0;31mTypeError\u001b[0m: 'tuple' object doesn't support item deletion"
          ]
        }
      ]
    },
    {
      "cell_type": "markdown",
      "metadata": {
        "id": "G5HpKghDr0K3"
      },
      "source": [
        "## Dizionari"
      ]
    },
    {
      "cell_type": "code",
      "metadata": {
        "colab": {
          "base_uri": "https://localhost:8080/"
        },
        "id": "WigB0B1lr3gc",
        "outputId": "52d63dc3-15bd-42a0-a36b-458b6b60fd8e"
      },
      "source": [
        "dizionario_vuoto = {}\n",
        "\n",
        "print(dizionario_vuoto, type(dizionario_vuoto))\n",
        "\n",
        "dizionario_con_interi = {\"uno\":1, \"due\":2}\n",
        "print(dizionario_con_interi)\n",
        "\n",
        "dizionario_vuoto_utilizzando_classe_callable = dict()\n",
        "print(dizionario_vuoto_utilizzando_classe_callable)"
      ],
      "execution_count": null,
      "outputs": [
        {
          "output_type": "stream",
          "name": "stdout",
          "text": [
            "{} <class 'dict'>\n",
            "{'uno': 1, 'due': 2}\n",
            "{}\n"
          ]
        }
      ]
    },
    {
      "cell_type": "markdown",
      "metadata": {
        "id": "ZniVmeTqs2gG"
      },
      "source": [
        "### Indicizzazione di un dizionario"
      ]
    },
    {
      "cell_type": "code",
      "metadata": {
        "colab": {
          "base_uri": "https://localhost:8080/"
        },
        "id": "TX88PF6Mr3nY",
        "outputId": "e88240e7-8f57-4141-dc74-872c089e5a25"
      },
      "source": [
        "dizionario_con_interi = {\"uno\":1, \"due\":2}\n",
        "print(dizionario_con_interi[\"uno\"])"
      ],
      "execution_count": null,
      "outputs": [
        {
          "output_type": "stream",
          "name": "stdout",
          "text": [
            "1\n"
          ]
        }
      ]
    },
    {
      "cell_type": "code",
      "metadata": {
        "colab": {
          "base_uri": "https://localhost:8080/",
          "height": 182
        },
        "id": "ME4ttTMnr3rR",
        "outputId": "06d04e2e-82ed-4d98-cb87-96075fba4a7c"
      },
      "source": [
        "dizionario_con_interi = {\"uno\":1, \"due\":2, \"tre\":3}\n",
        "print(dizionario_con_interi[[\"uno\", \"due\"]])"
      ],
      "execution_count": null,
      "outputs": [
        {
          "output_type": "error",
          "ename": "TypeError",
          "evalue": "ignored",
          "traceback": [
            "\u001b[0;31m---------------------------------------------------------------------------\u001b[0m",
            "\u001b[0;31mTypeError\u001b[0m                                 Traceback (most recent call last)",
            "\u001b[0;32m<ipython-input-30-45739cc5f911>\u001b[0m in \u001b[0;36m<module>\u001b[0;34m()\u001b[0m\n\u001b[1;32m      1\u001b[0m \u001b[0mdizionario_con_interi\u001b[0m \u001b[0;34m=\u001b[0m \u001b[0;34m{\u001b[0m\u001b[0;34m\"uno\"\u001b[0m\u001b[0;34m:\u001b[0m\u001b[0;36m1\u001b[0m\u001b[0;34m,\u001b[0m \u001b[0;34m\"due\"\u001b[0m\u001b[0;34m:\u001b[0m\u001b[0;36m2\u001b[0m\u001b[0;34m,\u001b[0m \u001b[0;34m\"tre\"\u001b[0m\u001b[0;34m:\u001b[0m\u001b[0;36m3\u001b[0m\u001b[0;34m}\u001b[0m\u001b[0;34m\u001b[0m\u001b[0;34m\u001b[0m\u001b[0m\n\u001b[0;32m----> 2\u001b[0;31m \u001b[0mprint\u001b[0m\u001b[0;34m(\u001b[0m\u001b[0mdizionario_con_interi\u001b[0m\u001b[0;34m[\u001b[0m\u001b[0;34m[\u001b[0m\u001b[0;34m\"uno\"\u001b[0m\u001b[0;34m,\u001b[0m \u001b[0;34m\"due\"\u001b[0m\u001b[0;34m]\u001b[0m\u001b[0;34m]\u001b[0m\u001b[0;34m)\u001b[0m\u001b[0;34m\u001b[0m\u001b[0;34m\u001b[0m\u001b[0m\n\u001b[0m",
            "\u001b[0;31mTypeError\u001b[0m: unhashable type: 'list'"
          ]
        }
      ]
    },
    {
      "cell_type": "code",
      "metadata": {
        "colab": {
          "base_uri": "https://localhost:8080/"
        },
        "id": "A4nyuPZBvOKL",
        "outputId": "2c96b968-1ba8-460d-b9ea-cea25a1267c3"
      },
      "source": [
        "dizionario_con_interi = {\"uno\":1, \"due\":2, \"tre\":3}\n",
        "\n",
        "print(\"Dizionario iniziale --> \", dizionario_con_interi)\n",
        "\n",
        "del dizionario_con_interi[\"uno\"] # elimino la coppia chiave-valore\n",
        "\n",
        "print(\"\\nDizionario con eliminazione di 'uno' --> \", dizionario_con_interi)\n",
        "\n",
        "dizionario_con_interi[\"uno_nuovo\"] = 1 # aggiungiamo nuova coppia chiave valore\n",
        "\n",
        "print(\"\\nDizionario con aggiunta di 'uno_nuovo' --> \", dizionario_con_interi)\n",
        "\n",
        "dizionario_con_interi[\"tre\"] = 4 # modifichiamo valore da una chiave esistente\n",
        "\n",
        "print(\"\\nDizionario con modifica di 'tre' --> \", dizionario_con_interi)\n"
      ],
      "execution_count": null,
      "outputs": [
        {
          "output_type": "stream",
          "name": "stdout",
          "text": [
            "Dizionario iniziale -->  {'uno': 1, 'due': 2, 'tre': 3}\n",
            "\n",
            "Dizionario con eliminazione di 'uno' -->  {'due': 2, 'tre': 3}\n",
            "\n",
            "Dizionario con aggiunta di 'uno_nuovo' -->  {'due': 2, 'tre': 3, 'uno_nuovo': 1}\n",
            "\n",
            "Dizionario con modifica di 'tre' -->  {'due': 2, 'tre': 4, 'uno_nuovo': 1}\n"
          ]
        }
      ]
    },
    {
      "cell_type": "markdown",
      "metadata": {
        "id": "KFmsrr6OzgjV"
      },
      "source": [
        "## Set"
      ]
    },
    {
      "cell_type": "code",
      "metadata": {
        "colab": {
          "base_uri": "https://localhost:8080/"
        },
        "id": "u14GY2L50EbJ",
        "outputId": "bc45f25d-8f20-4e3c-e354-a47f7163f0a4"
      },
      "source": [
        "# insieme_vuoto = {} ---> NO! così si crea un dict vuoto!\n",
        "\n",
        "\n",
        "insieme_vuoto = set()\n",
        "print(insieme_vuoto,type(insieme_vuoto))\n",
        "\n",
        "insieme_di_interi = {1,2,3}\n",
        "print(insieme_di_interi,type(insieme_di_interi))\n"
      ],
      "execution_count": null,
      "outputs": [
        {
          "output_type": "stream",
          "name": "stdout",
          "text": [
            "set() <class 'set'>\n",
            "{1, 2, 3} <class 'set'>\n"
          ]
        }
      ]
    },
    {
      "cell_type": "markdown",
      "metadata": {
        "id": "ISykoHzX0qaq"
      },
      "source": [
        "### (Non) Indicizzazione di un set"
      ]
    },
    {
      "cell_type": "code",
      "metadata": {
        "colab": {
          "base_uri": "https://localhost:8080/",
          "height": 182
        },
        "id": "l5TGy2XN0tGw",
        "outputId": "3feaeb43-b7a0-44eb-e117-f69864b0e7e4"
      },
      "source": [
        "insieme_di_interi = {1,2,3}\n",
        "print(insieme_di_interi[1]) # errore"
      ],
      "execution_count": null,
      "outputs": [
        {
          "output_type": "error",
          "ename": "TypeError",
          "evalue": "ignored",
          "traceback": [
            "\u001b[0;31m---------------------------------------------------------------------------\u001b[0m",
            "\u001b[0;31mTypeError\u001b[0m                                 Traceback (most recent call last)",
            "\u001b[0;32m<ipython-input-39-fc5e639fd687>\u001b[0m in \u001b[0;36m<module>\u001b[0;34m()\u001b[0m\n\u001b[1;32m      1\u001b[0m \u001b[0minsieme_di_interi\u001b[0m \u001b[0;34m=\u001b[0m \u001b[0;34m{\u001b[0m\u001b[0;36m1\u001b[0m\u001b[0;34m,\u001b[0m\u001b[0;36m2\u001b[0m\u001b[0;34m,\u001b[0m\u001b[0;36m3\u001b[0m\u001b[0;34m}\u001b[0m\u001b[0;34m\u001b[0m\u001b[0;34m\u001b[0m\u001b[0m\n\u001b[0;32m----> 2\u001b[0;31m \u001b[0mprint\u001b[0m\u001b[0;34m(\u001b[0m\u001b[0minsieme_di_interi\u001b[0m\u001b[0;34m[\u001b[0m\u001b[0;36m1\u001b[0m\u001b[0;34m]\u001b[0m\u001b[0;34m)\u001b[0m\u001b[0;34m\u001b[0m\u001b[0;34m\u001b[0m\u001b[0m\n\u001b[0m",
            "\u001b[0;31mTypeError\u001b[0m: 'set' object is not subscriptable"
          ]
        }
      ]
    },
    {
      "cell_type": "markdown",
      "metadata": {
        "id": "m9IlgsFv1xsC"
      },
      "source": [
        "### Mutabilità di un set\n",
        "\n",
        "Possiamo solamente aggiungere o rimuovere elementi ma non modificarli!"
      ]
    },
    {
      "cell_type": "code",
      "metadata": {
        "id": "0DRXv9M913iY"
      },
      "source": [
        "insieme_di_interi = {1,2,3}"
      ],
      "execution_count": null,
      "outputs": []
    },
    {
      "cell_type": "code",
      "metadata": {
        "colab": {
          "base_uri": "https://localhost:8080/"
        },
        "id": "KYoQ-RBU13kx",
        "outputId": "ab1bbc4e-7c5e-4e1b-fdad-578e3bce561a"
      },
      "source": [
        "# aggiungo elemento 4\n",
        "insieme_di_interi.add(4)\n",
        "print(insieme_di_interi)"
      ],
      "execution_count": null,
      "outputs": [
        {
          "output_type": "stream",
          "name": "stdout",
          "text": [
            "{1, 2, 3, 4}\n"
          ]
        }
      ]
    },
    {
      "cell_type": "code",
      "metadata": {
        "colab": {
          "base_uri": "https://localhost:8080/"
        },
        "id": "ra2PcTfC18zC",
        "outputId": "9c5a792e-51f6-4f9e-9196-00f29f3e1735"
      },
      "source": [
        "# rimuovo elemento 2\n",
        "insieme_di_interi.remove(2)\n",
        "print(insieme_di_interi)"
      ],
      "execution_count": null,
      "outputs": [
        {
          "output_type": "stream",
          "name": "stdout",
          "text": [
            "{1, 3, 4}\n"
          ]
        }
      ]
    },
    {
      "cell_type": "code",
      "metadata": {
        "colab": {
          "base_uri": "https://localhost:8080/"
        },
        "id": "Z1wYchLd2CFG",
        "outputId": "2988de6c-7b96-4316-b0bd-5346141352e1"
      },
      "source": [
        "# aggiungo elemento 4, essendo che un set non ha elementi ripetuti non cambia nulla!\n",
        "print(\"Prima aggiunta\", insieme_di_interi)\n",
        "insieme_di_interi.add(4)\n",
        "print(\"Dopo aggiunta del 4\",insieme_di_interi)"
      ],
      "execution_count": null,
      "outputs": [
        {
          "output_type": "stream",
          "name": "stdout",
          "text": [
            "Prima aggiunta {1, 3, 4}\n",
            "Dopo aggiunta del 4 {1, 3, 4}\n"
          ]
        }
      ]
    },
    {
      "cell_type": "markdown",
      "metadata": {
        "id": "mzg6mhhq3tks"
      },
      "source": [
        "### Operazioni insiemistiche"
      ]
    },
    {
      "cell_type": "code",
      "metadata": {
        "id": "y2eYSmR13viT"
      },
      "source": [
        "insieme_di_interi_1 = {1,2,3}\n",
        "insieme_di_interi_2 = {2,3,4}"
      ],
      "execution_count": null,
      "outputs": []
    },
    {
      "cell_type": "code",
      "metadata": {
        "colab": {
          "base_uri": "https://localhost:8080/"
        },
        "id": "h19ETgd23vk4",
        "outputId": "c08c1fae-fdc4-47ad-b868-ff907a53b3f1"
      },
      "source": [
        "# unione\n",
        "print(insieme_di_interi_1.union(insieme_di_interi_2))"
      ],
      "execution_count": null,
      "outputs": [
        {
          "output_type": "stream",
          "name": "stdout",
          "text": [
            "{1, 2, 3, 4}\n"
          ]
        }
      ]
    },
    {
      "cell_type": "code",
      "metadata": {
        "colab": {
          "base_uri": "https://localhost:8080/"
        },
        "id": "Qi6mubbE3vqG",
        "outputId": "7f966e85-f921-414f-e574-5a849e3030ff"
      },
      "source": [
        "# intersezione\n",
        "print(insieme_di_interi_1.intersection(insieme_di_interi_2))"
      ],
      "execution_count": null,
      "outputs": [
        {
          "output_type": "stream",
          "name": "stdout",
          "text": [
            "{2, 3}\n"
          ]
        }
      ]
    },
    {
      "cell_type": "code",
      "metadata": {
        "colab": {
          "base_uri": "https://localhost:8080/"
        },
        "id": "7vw8RfCD35Vi",
        "outputId": "4b5c0874-274c-45a6-aa53-65e233d68a7e"
      },
      "source": [
        "# differenza\n",
        "print(insieme_di_interi_1.difference(insieme_di_interi_2))\n",
        "\n",
        "print(insieme_di_interi_2.difference(insieme_di_interi_1))"
      ],
      "execution_count": null,
      "outputs": [
        {
          "output_type": "stream",
          "name": "stdout",
          "text": [
            "{1}\n",
            "{4}\n"
          ]
        }
      ]
    },
    {
      "cell_type": "markdown",
      "metadata": {
        "id": "cgh_D6s07ZKt"
      },
      "source": [
        "# Operatori di controllo"
      ]
    },
    {
      "cell_type": "markdown",
      "metadata": {
        "id": "VUhaZXuxvFe7"
      },
      "source": [
        "## Operatore di controllo if-else\n",
        "\n",
        "Implementiamo il famoso algoritmo \"Discriminatore\""
      ]
    },
    {
      "cell_type": "code",
      "metadata": {
        "colab": {
          "base_uri": "https://localhost:8080/"
        },
        "id": "mdMMiqlfvHzY",
        "outputId": "1f441d9b-7cb7-4c75-92e2-2239e746c049"
      },
      "source": [
        "numero_intero = int(input('Dammi un intero: ')) \n",
        "\n",
        "if numero_intero <= 10:\n",
        "  print(numero_intero, \" sei discriminato!\") \n",
        "else:\n",
        "  print(numero_intero, \"non sei discriminato!\") "
      ],
      "execution_count": null,
      "outputs": [
        {
          "output_type": "stream",
          "name": "stdout",
          "text": [
            "Dammi un intero: 1548548454\n",
            "1548548454 non sei discriminato!\n"
          ]
        }
      ]
    },
    {
      "cell_type": "markdown",
      "metadata": {
        "id": "m_NSI_nzv6Jv"
      },
      "source": [
        "### Implementiamo il controllo del giorno della settimana"
      ]
    },
    {
      "cell_type": "code",
      "metadata": {
        "colab": {
          "base_uri": "https://localhost:8080/"
        },
        "id": "iNOGQKFIv-3e",
        "outputId": "6b1de716-e740-4db6-8e80-84aa6c6bf93e"
      },
      "source": [
        "giorno_della_settimana = int(input('Indica il giorno odierno con un intero da 1 a 7: ')) \n",
        "\n",
        "if giorno_della_settimana == 1:\n",
        "  print(\"Oggi è lunedì\") \n",
        "elif giorno_della_settimana == 2:\n",
        "  print(\"Oggi è martedì\") \n",
        "elif giorno_della_settimana == 3:\n",
        "  print(\"Oggi è mercoledì\")\n",
        "elif giorno_della_settimana == 4:\n",
        "  print(\"Oggi è giovedì\")\n",
        "elif giorno_della_settimana == 5:\n",
        "  print(\"Oggi è venerdì\")\n",
        "elif giorno_della_settimana == 6:\n",
        "  print(\"Oggi è sabato\")\n",
        "else:\n",
        "  print(\"Oggi è domenica\")"
      ],
      "execution_count": null,
      "outputs": [
        {
          "output_type": "stream",
          "name": "stdout",
          "text": [
            "Indica il giorno odierno con un intero da 1 a 7: 1\n",
            "Oggi è lunedì\n"
          ]
        }
      ]
    },
    {
      "cell_type": "markdown",
      "metadata": {
        "id": "r0ZIJssCziHe"
      },
      "source": [
        "### Controlliamo che una lista abbia almeno 3 elementi"
      ]
    },
    {
      "cell_type": "code",
      "metadata": {
        "id": "s2uzyYbjztQb"
      },
      "source": [
        "lista_interi = [1,2,3]"
      ],
      "execution_count": null,
      "outputs": []
    },
    {
      "cell_type": "code",
      "metadata": {
        "colab": {
          "base_uri": "https://localhost:8080/"
        },
        "id": "8pVzDVIFzhh1",
        "outputId": "9791a8a7-7a30-4373-99df-adcc71c35c69"
      },
      "source": [
        "if len(lista_interi) == 3:\n",
        "  print(\"lunghezza giusta\")\n",
        "else:\n",
        "  print(\"lunghezza non giusta\")"
      ],
      "execution_count": null,
      "outputs": [
        {
          "output_type": "stream",
          "name": "stdout",
          "text": [
            "lunghezza non giusta\n"
          ]
        }
      ]
    },
    {
      "cell_type": "markdown",
      "metadata": {
        "id": "0VaMqGhD9Azp"
      },
      "source": [
        "## Cicli"
      ]
    },
    {
      "cell_type": "markdown",
      "metadata": {
        "id": "LxwLmTGx9IAd"
      },
      "source": [
        "### Il ciclo while"
      ]
    },
    {
      "cell_type": "code",
      "metadata": {
        "colab": {
          "base_uri": "https://localhost:8080/"
        },
        "id": "hKadtbP89GLz",
        "outputId": "96f19bb5-592f-4ba4-a174-cf2c6067c8d7"
      },
      "source": [
        "# Creiamo il nostro primo ciclo while!\n",
        "\n",
        "contatore = 0\n",
        "\n",
        "while contatore < 10:\n",
        "    print(contatore)\n",
        "    contatore +=1 # questa istruzione corrisponde a sommare 1 alla variabile contatore --> contatore = contatore +1"
      ],
      "execution_count": null,
      "outputs": [
        {
          "output_type": "stream",
          "name": "stdout",
          "text": [
            "0\n",
            "1\n",
            "2\n",
            "3\n",
            "4\n",
            "5\n",
            "6\n",
            "7\n",
            "8\n",
            "9\n"
          ]
        }
      ]
    },
    {
      "cell_type": "markdown",
      "metadata": {
        "id": "2tjOewxU98gP"
      },
      "source": [
        "Come creare un ciclo infinito dalla cella di codice appena vista?"
      ]
    },
    {
      "cell_type": "code",
      "metadata": {
        "colab": {
          "base_uri": "https://localhost:8080/"
        },
        "id": "Y0W3TwFE97p3",
        "outputId": "da0686da-cdd2-442c-a728-58a32c9e2ed7"
      },
      "source": [
        "########## Il tuo codice inizia qui ##########\n",
        "contatore = 0\n",
        "\n",
        "while contatore < 10:\n",
        "    print(contatore)\n",
        "    contatore +=1\n",
        "########## Il tuo codice finisce qui ##########"
      ],
      "execution_count": null,
      "outputs": [
        {
          "output_type": "stream",
          "name": "stdout",
          "text": [
            "0\n",
            "1\n",
            "2\n",
            "3\n",
            "4\n",
            "5\n",
            "6\n",
            "7\n",
            "8\n",
            "9\n"
          ]
        }
      ]
    },
    {
      "cell_type": "markdown",
      "metadata": {
        "id": "lN7NXiTUAijp"
      },
      "source": [
        "### Interrompere un while infinito con l'if statement\n",
        "\n",
        "Vogliamo che il nostro utente inserisca numeri finchè lui non ci dice di fermarci tramite il comando 'stop'. \n",
        "\n",
        "Non sappiamo a priori quanti numeri il nostro utente inserirà, per cui abbiamo bisogno di un modo per riconoscere il comando 'stop' e chiudere la computazione!\n"
      ]
    },
    {
      "cell_type": "code",
      "metadata": {
        "colab": {
          "base_uri": "https://localhost:8080/"
        },
        "id": "CWKG7yFdAh4c",
        "outputId": "ac7f9757-18eb-49b8-f3bc-0bd860ccb57e"
      },
      "source": [
        "# Vogliamo che il nostro utente inserisca numeri finchè lui non ci dice di fermarci tramite il comando 'stop'\n",
        "\n",
        "\n",
        "while True:\n",
        "  numero = input(\"Dammi un numero oppure fermami con 'stop' \")\n",
        "  if numero == \"stop\":\n",
        "    break # usciamo dal ciclo while!\n",
        "  # in questo caso possiamo evitare di usare il costrutto else\n",
        "  print(\"Hai digitato \", numero)\n",
        "\n",
        "# usciti dal ciclo\n",
        "print(\"Grazie per averci scelto!\")\n"
      ],
      "execution_count": null,
      "outputs": [
        {
          "output_type": "stream",
          "name": "stdout",
          "text": [
            "Dammi un numero oppure fermami con 'stop'5\n",
            "Hai digitato  5\n",
            "Dammi un numero oppure fermami con 'stop'6\n",
            "Hai digitato  6\n",
            "Dammi un numero oppure fermami con 'stop'stop\n",
            "Grazie per averci scelto!\n"
          ]
        }
      ]
    },
    {
      "cell_type": "code",
      "metadata": {
        "id": "pLsNu8NhBaF9"
      },
      "source": [
        "# Vogliamo che il nostro utente inserisca numeri finchè lui non ci dice di fermarci tramite il comando 'stop'\n",
        "\n",
        "accumulatore = \"\" # stringa vuota\n",
        "\n",
        "while True:\n",
        "  numero = str(input(\"Dammi un numero oppure fermami con 'stop' \"))\n",
        "  if numero == \"stop\":\n",
        "    break # usciamo dal ciclo while!\n",
        "  # in questo caso possiamo evitare di usare il costrutto else\n",
        "  accumulatore += numero # accumulo i numeri inseriti dall'utente\n",
        "  print(\"Hai digitato \", accumulatore)\n",
        "\n",
        "# usciti dal ciclo\n",
        "print(\"Grazie per averci scelto!\")\n"
      ],
      "execution_count": null,
      "outputs": []
    },
    {
      "cell_type": "markdown",
      "metadata": {
        "id": "P9vt7cgp0jLC"
      },
      "source": [
        "### Il ciclo for"
      ]
    },
    {
      "cell_type": "code",
      "metadata": {
        "colab": {
          "base_uri": "https://localhost:8080/"
        },
        "id": "juAcW3LE0lBA",
        "outputId": "2b805195-cc83-42d6-e4d6-ebd0b0e22559"
      },
      "source": [
        "# Cicliamo su una lista di interi\n",
        "lista_di_interi = [1,2,3]\n",
        "\n",
        "for numero_intero in lista_di_interi:\n",
        "  print(numero_intero)"
      ],
      "execution_count": null,
      "outputs": [
        {
          "output_type": "stream",
          "name": "stdout",
          "text": [
            "1\n",
            "2\n",
            "3\n"
          ]
        }
      ]
    },
    {
      "cell_type": "code",
      "metadata": {
        "colab": {
          "base_uri": "https://localhost:8080/"
        },
        "id": "QarwosxQ0uzv",
        "outputId": "3431df47-8393-4456-8a80-8bb477816426"
      },
      "source": [
        "# Cicliamo su una lista di interi e sommiamo uno!\n",
        "lista_di_interi = [1,2,3]\n",
        "\n",
        "for numero_intero in lista_di_interi:\n",
        "  print(numero_intero + 1)"
      ],
      "execution_count": null,
      "outputs": [
        {
          "output_type": "stream",
          "name": "stdout",
          "text": [
            "2\n",
            "3\n",
            "4\n"
          ]
        }
      ]
    },
    {
      "cell_type": "code",
      "metadata": {
        "colab": {
          "base_uri": "https://localhost:8080/"
        },
        "id": "j7JBMsU_0zac",
        "outputId": "db84f548-f9b1-4d95-c813-613c6f20aa5a"
      },
      "source": [
        "# Cicliamo su una lista di interi e sommiamo uno modificando gli elementi della lista!\n",
        "lista_di_interi = [1,2,3]\n",
        "\n",
        "# Enumerate è una funzione che prende in input una sequenza di elementi, e restituisce n tuple di due valori: un indice numerico e l'elemento stesso!\n",
        "# Ovviamente n è pari alla lunghezza della sequenza \n",
        "\n",
        "for index, numero_intero in enumerate(lista_di_interi):\n",
        "  print(\"Elemento della lista con indice %s: %s\" % (index, lista_di_interi[index]))\n",
        "\n",
        "\n",
        "print(\"\\n\") # mando a capo per una migliore visualizzazione\n",
        "\n",
        "\n",
        "# Posso applicare lo stesso concetto alle liste\n",
        "stringa_ciao = \"ciao\"\n",
        "for index, numero_intero in enumerate(stringa_ciao):\n",
        "  print(\"Elemento della lista con indice %s: %s\" % (index, stringa_ciao[index]))\n",
        "\n"
      ],
      "execution_count": null,
      "outputs": [
        {
          "output_type": "stream",
          "name": "stdout",
          "text": [
            "Elemento della lista con indice 0: 1\n",
            "Elemento della lista con indice 1: 2\n",
            "Elemento della lista con indice 2: 3\n",
            "\n",
            "\n",
            "Elemento della lista con indice 0: c\n",
            "Elemento della lista con indice 1: i\n",
            "Elemento della lista con indice 2: a\n",
            "Elemento della lista con indice 3: o\n"
          ]
        }
      ]
    },
    {
      "cell_type": "markdown",
      "metadata": {
        "id": "swjN4hJ21bzK"
      },
      "source": [
        "#### Esercizio\n",
        "Utilizzare il ciclo for per aumentare di 1 tutti i numeri all'interno della lista"
      ]
    },
    {
      "cell_type": "code",
      "metadata": {
        "id": "tqPN-Vcw1gRy"
      },
      "source": [
        "# Cicliamo su una lista di interi e sommiamo uno modificando gli elementi della lista!\n",
        "lista_di_interi = [1,2,3]\n",
        "print(\"Prima del ciclo for\", lista_di_interi)\n",
        "\n",
        "########## Il tuo codice inizia qui ##########\n",
        "\n",
        "\n",
        "########## Il tuo codice finisce qui ##########\n",
        "\n",
        "print(\"Dopo del ciclo for\", lista_di_interi)\n"
      ],
      "execution_count": null,
      "outputs": []
    },
    {
      "cell_type": "markdown",
      "metadata": {
        "id": "wvEywf_T5Dvj"
      },
      "source": [
        "#### Il ciclo for sui dizionari\n",
        "\n",
        "Per effettuare una iterazione su un dizionario si dovrà adottare una politica simile a quella adottata con il costrutto ```enumerate()```. \n",
        "\n",
        "Infatti, se ben ricordiamo, un dizionario è composto da coppie `{chiave:valore}`!\n",
        "\n",
        "Ricordiamo inoltre che il dizionario non è una sequenza! Per scorrere un dizionario avremo bisogno anche di chiamare il metodo `items()` che ritonerà `n` coppie `(chiave,valore)` dove `n` è pari al numero di elementi presenti nel dizionario.\n",
        "\n"
      ]
    },
    {
      "cell_type": "code",
      "metadata": {
        "colab": {
          "base_uri": "https://localhost:8080/"
        },
        "id": "uvx5OVB55C2o",
        "outputId": "46380265-94fa-467f-da46-c47f50916956"
      },
      "source": [
        "dict_giorni_settimana = {0:\"lunedì\", 1:\"martedì\", 2:\"mercoledì\", 3:\"giovedì\", 4:\"venerdì\", 5:\"sabato\", 6:\"domenica\"}\n",
        "\n",
        "for key,value in dict_giorni_settimana.items(): # dovremo usare anche la funzione items()\n",
        "  print(\"Il giorno con chiave %s è %s\"% (key,value))"
      ],
      "execution_count": null,
      "outputs": [
        {
          "output_type": "stream",
          "name": "stdout",
          "text": [
            "Il giorno con chiave 0 è lunedì\n",
            "Il giorno con chiave 1 è martedì\n",
            "Il giorno con chiave 2 è mercoledì\n",
            "Il giorno con chiave 3 è giovedì\n",
            "Il giorno con chiave 4 è venerdì\n",
            "Il giorno con chiave 5 è sabato\n",
            "Il giorno con chiave 6 è domenica\n"
          ]
        }
      ]
    },
    {
      "cell_type": "markdown",
      "metadata": {
        "id": "_JGsSKIF7tUr"
      },
      "source": [
        "### Il costrutto range"
      ]
    },
    {
      "cell_type": "code",
      "metadata": {
        "colab": {
          "base_uri": "https://localhost:8080/"
        },
        "id": "6HrF47ra7vko",
        "outputId": "daae28e7-3553-496a-a83a-42a6a07df1c8"
      },
      "source": [
        "for i in range(2,10,2):\n",
        "  print(i)"
      ],
      "execution_count": null,
      "outputs": [
        {
          "output_type": "stream",
          "name": "stdout",
          "text": [
            "2\n",
            "4\n",
            "6\n",
            "8\n"
          ]
        }
      ]
    },
    {
      "cell_type": "markdown",
      "metadata": {
        "id": "xdwoEK4C7_Zc"
      },
      "source": [
        "#### Esempio di utilizzo costrutto range\n",
        "\n",
        "Supponiamo di avere una lista contente 28 elementi che rappresentano i valori giornalieri di un'azienda in borsa lungo l'arco di 4 settimane. \n",
        "\n",
        "Vi viene chiesto di estrarre solamente i valori che corrispondono al venerdì di ogni settimana, come fareste?"
      ]
    },
    {
      "cell_type": "code",
      "metadata": {
        "id": "crzeL1kH8Bo9"
      },
      "source": [
        "import numpy as np\n",
        "lista_azioni_borsa = np.random.randint(10000,50000, 28) # creo una lista di 28 valori casuali tra 10000 e 50000\n",
        "\n",
        "# Per ogni settimana abbiamo 7 numeri.\n",
        "\n",
        "# Nella prima settimana avremo: 0,1,2,3,4,5,6 dove 4 è il venerdì!"
      ],
      "execution_count": null,
      "outputs": []
    },
    {
      "cell_type": "code",
      "metadata": {
        "colab": {
          "base_uri": "https://localhost:8080/"
        },
        "id": "j4HWpxXE8l03",
        "outputId": "1ff05cac-10ed-4995-b476-52d4a465bfca"
      },
      "source": [
        "# stampiamo i giorni relativi al venerdì! \n",
        "\n",
        "# p.s. ricordiamo che si inizia a contare da 0\n",
        "\n",
        "# 4 corrisponde all'indice del primo venerdì\n",
        "giorni_in_una_settimana = 7\n",
        "# 7 è il numero di giorni in una settimana :')\n",
        "\n",
        "for i in range(4, len(lista_azioni_borsa), giorni_in_una_settimana):\n",
        "  print(i)\n",
        "  print(\"L'indice corrisponde a :\", dict_giorni_settimana[i%giorni_in_una_settimana])\n"
      ],
      "execution_count": null,
      "outputs": [
        {
          "output_type": "stream",
          "name": "stdout",
          "text": [
            "4\n",
            "L'indice corrisponde a : venerdì\n",
            "11\n",
            "L'indice corrisponde a : venerdì\n",
            "18\n",
            "L'indice corrisponde a : venerdì\n",
            "25\n",
            "L'indice corrisponde a : venerdì\n"
          ]
        }
      ]
    },
    {
      "cell_type": "markdown",
      "metadata": {
        "id": "khoPH6EEAZlg"
      },
      "source": [
        "## Il mondo senza cicli"
      ]
    },
    {
      "cell_type": "markdown",
      "metadata": {
        "id": "oSMTov8W_A8c"
      },
      "source": [
        "### Senza il ciclo while"
      ]
    },
    {
      "cell_type": "code",
      "metadata": {
        "colab": {
          "base_uri": "https://localhost:8080/"
        },
        "id": "XcBf2LwC_D3z",
        "outputId": "eb5d28d3-ee3a-4910-eefe-a3a434cb5b27"
      },
      "source": [
        "contatore = 0\n",
        "print(contatore)\n",
        "\n",
        "contatore+=1 \n",
        "print(contatore)\n",
        "\n",
        "contatore+=1 \n",
        "print(contatore)\n",
        "\n",
        "contatore+=1 \n",
        "print(contatore)\n",
        "\n",
        "contatore+=1 \n",
        "print(contatore)\n",
        "\n",
        "contatore+=1 \n",
        "print(contatore)\n",
        "\n",
        "contatore+=1 \n",
        "print(contatore)\n",
        "\n",
        "contatore+=1 \n",
        "print(contatore)\n",
        "\n",
        "contatore+=1 \n",
        "print(contatore)\n",
        "\n",
        "contatore+=1 \n",
        "print(contatore)"
      ],
      "execution_count": null,
      "outputs": [
        {
          "output_type": "stream",
          "name": "stdout",
          "text": [
            "0\n",
            "1\n",
            "2\n",
            "3\n",
            "4\n",
            "5\n",
            "6\n",
            "7\n",
            "8\n",
            "9\n"
          ]
        }
      ]
    },
    {
      "cell_type": "markdown",
      "source": [
        "# Creiamo un ChatBot di Eliza in miniatura!"
      ],
      "metadata": {
        "id": "1K5Y_v6UbfgR"
      }
    },
    {
      "cell_type": "code",
      "source": [
        "# Saluti\n",
        "risposta_ciao = \"Ciao, sono Eliza dal dipartimento di Scienze per la qualità della vita, come posso aiutarti\"\n",
        "saluto_finale = \"Arrivederci!\"\n",
        "\n",
        "# Il dizionario è composto da coppie messaggio inviato dall'utente - risposta di Eliza!\n",
        "dizionario_comandi_Eliza_saluti = {\n",
        "    \"ciao\" : risposta_ciao,\n",
        "    \"arrivederci\" : saluto_finale, \n",
        "}"
      ],
      "metadata": {
        "id": "3-UQpqmRb5rZ"
      },
      "execution_count": 82,
      "outputs": []
    },
    {
      "cell_type": "code",
      "source": [
        "# Fase degli acquisti!\n",
        "lista_di_capi_disponibili = [\"maglietta\", \"pantalone\", \"canottiera\", \"sandali\", \"scarpe\"]\n",
        "\n",
        "risposta_negozio = \"Posso venderti uno tra questi capi: \" # concateno tutti gli elementi della lista e li metto nella stringa\n",
        "risposta_compra = \"Dimmi cosa vuoi comprare tra \"\n",
        "risposta_acquisto = \"Hai acquistato %s, ti manderò la fattura! Desideri altro?\" # %s è un placeholder per il nome dell'articolo!\n",
        "risposta_prodotto_inesistente = \"Il prodotto %s non è presente nel catalogo. Vuoi comprare altro?\" # %s è un placeholder per il nome dell'articolo!\n",
        "\n",
        "comando_acquisto = \"compra\"\n",
        "\n",
        "dizionario_comandi_acquisto = {\n",
        "    \"negozio\" : risposta_negozio,\n",
        "    comando_acquisto: risposta_compra, \n",
        "    \"acquisto_effettuato\" : risposta_acquisto,\n",
        "    \"prodotto_inesistente\": risposta_prodotto_inesistente\n",
        "}"
      ],
      "metadata": {
        "id": "XaDkgJztdaXS"
      },
      "execution_count": 86,
      "outputs": []
    },
    {
      "cell_type": "code",
      "source": [
        "def Eliza_chatbot(statement, livello_della_conversazione): # C'è \n",
        "\n",
        "  # LIVELLO 1 DI ANNIDAMENTO\n",
        "  # Controllo se il comando è tra i saluti\n",
        "  if statement in dizionario_comandi_Eliza_saluti.keys():\n",
        "    livello_della_conversazione = 1\n",
        "    return dizionario_comandi_Eliza_saluti[statement], livello_della_conversazione\n",
        "\n",
        "  # Controllo se il comando è tra quelli per il negozio\n",
        "  elif statement in dizionario_comandi_acquisto.keys():\n",
        "      # LIVELLO 2 DI ANNIDAMENTO\n",
        "     if statement == comando_acquisto:\n",
        "       livello_della_conversazione = 2\n",
        "     else: \n",
        "        livello_della_conversazione = 1\n",
        "     return dizionario_comandi_acquisto[statement] + \", \".join(lista_di_capi_disponibili), livello_della_conversazione\n",
        "\n",
        "  # COMPLETIAMO L'ACQUISTO\n",
        "  elif livello_della_conversazione == 2:\n",
        "      # LIVELLO 3 DI ANNIDAMENTO\n",
        "      prodotto_da_comprare = statement # permette di separare il comando dall'articolo\n",
        "      if prodotto_da_comprare in lista_di_capi_disponibili:\n",
        "        livello_della_conversazione = 1\n",
        "        # togliamo il capo tra quelli disponibili\n",
        "        lista_di_capi_disponibili.remove(prodotto_da_comprare)\n",
        "        return dizionario_comandi_acquisto[\"acquisto_effettuato\"] % prodotto_da_comprare, livello_della_conversazione\n",
        "      else:\n",
        "        return dizionario_comandi_acquisto[\"prodotto_inesistente\"] % prodotto_da_comprare, livello_della_conversazione\n",
        "  else:\n",
        "    return \"Non ho capito.\", livello_della_conversazione"
      ],
      "metadata": {
        "id": "fx3CnW6jbjfB"
      },
      "execution_count": 87,
      "outputs": []
    },
    {
      "cell_type": "code",
      "source": [
        "livello_della_conversazione = 1\n",
        "\n",
        "while True:\n",
        "  statement = input(\"\")\n",
        "  eliza_answer, livello_della_conversazione = Eliza_chatbot(statement, livello_della_conversazione)\n",
        "  print(eliza_answer)\n",
        "  if eliza_answer == saluto_finale:\n",
        "    break"
      ],
      "metadata": {
        "colab": {
          "base_uri": "https://localhost:8080/",
          "height": 779
        },
        "id": "G7vZWVXqbojx",
        "outputId": "3e1b6f67-14dc-4fa6-8c2c-af65ba05dd75"
      },
      "execution_count": 88,
      "outputs": [
        {
          "output_type": "stream",
          "name": "stdout",
          "text": [
            "compra\n",
            "Dimmi cosa vuoi comprare tra maglietta, pantalone, canottiera, sandali, scarpe\n",
            "maglietta\n",
            "['pantalone', 'canottiera', 'sandali', 'scarpe']\n",
            "Hai acquistato maglietta, ti manderò la fattura! Desideri altro?\n",
            "compra\n",
            "Dimmi cosa vuoi comprare tra pantalone, canottiera, sandali, scarpe\n",
            "negozio\n",
            "Posso venderti uno tra questi capi: pantalone, canottiera, sandali, scarpe\n",
            "compra\n",
            "Dimmi cosa vuoi comprare tra pantalone, canottiera, sandali, scarpe\n",
            "pantalone\n",
            "['canottiera', 'sandali', 'scarpe']\n",
            "Hai acquistato pantalone, ti manderò la fattura! Desideri altro?\n"
          ]
        },
        {
          "output_type": "error",
          "ename": "KeyboardInterrupt",
          "evalue": "ignored",
          "traceback": [
            "\u001b[0;31m---------------------------------------------------------------------------\u001b[0m",
            "\u001b[0;31mKeyboardInterrupt\u001b[0m                         Traceback (most recent call last)",
            "\u001b[0;32m/usr/local/lib/python3.7/dist-packages/ipykernel/kernelbase.py\u001b[0m in \u001b[0;36m_input_request\u001b[0;34m(self, prompt, ident, parent, password)\u001b[0m\n\u001b[1;32m    728\u001b[0m             \u001b[0;32mtry\u001b[0m\u001b[0;34m:\u001b[0m\u001b[0;34m\u001b[0m\u001b[0;34m\u001b[0m\u001b[0m\n\u001b[0;32m--> 729\u001b[0;31m                 \u001b[0mident\u001b[0m\u001b[0;34m,\u001b[0m \u001b[0mreply\u001b[0m \u001b[0;34m=\u001b[0m \u001b[0mself\u001b[0m\u001b[0;34m.\u001b[0m\u001b[0msession\u001b[0m\u001b[0;34m.\u001b[0m\u001b[0mrecv\u001b[0m\u001b[0;34m(\u001b[0m\u001b[0mself\u001b[0m\u001b[0;34m.\u001b[0m\u001b[0mstdin_socket\u001b[0m\u001b[0;34m,\u001b[0m \u001b[0;36m0\u001b[0m\u001b[0;34m)\u001b[0m\u001b[0;34m\u001b[0m\u001b[0;34m\u001b[0m\u001b[0m\n\u001b[0m\u001b[1;32m    730\u001b[0m             \u001b[0;32mexcept\u001b[0m \u001b[0mException\u001b[0m\u001b[0;34m:\u001b[0m\u001b[0;34m\u001b[0m\u001b[0;34m\u001b[0m\u001b[0m\n",
            "\u001b[0;32m/usr/local/lib/python3.7/dist-packages/jupyter_client/session.py\u001b[0m in \u001b[0;36mrecv\u001b[0;34m(self, socket, mode, content, copy)\u001b[0m\n\u001b[1;32m    802\u001b[0m         \u001b[0;32mtry\u001b[0m\u001b[0;34m:\u001b[0m\u001b[0;34m\u001b[0m\u001b[0;34m\u001b[0m\u001b[0m\n\u001b[0;32m--> 803\u001b[0;31m             \u001b[0mmsg_list\u001b[0m \u001b[0;34m=\u001b[0m \u001b[0msocket\u001b[0m\u001b[0;34m.\u001b[0m\u001b[0mrecv_multipart\u001b[0m\u001b[0;34m(\u001b[0m\u001b[0mmode\u001b[0m\u001b[0;34m,\u001b[0m \u001b[0mcopy\u001b[0m\u001b[0;34m=\u001b[0m\u001b[0mcopy\u001b[0m\u001b[0;34m)\u001b[0m\u001b[0;34m\u001b[0m\u001b[0;34m\u001b[0m\u001b[0m\n\u001b[0m\u001b[1;32m    804\u001b[0m         \u001b[0;32mexcept\u001b[0m \u001b[0mzmq\u001b[0m\u001b[0;34m.\u001b[0m\u001b[0mZMQError\u001b[0m \u001b[0;32mas\u001b[0m \u001b[0me\u001b[0m\u001b[0;34m:\u001b[0m\u001b[0;34m\u001b[0m\u001b[0;34m\u001b[0m\u001b[0m\n",
            "\u001b[0;32m/usr/local/lib/python3.7/dist-packages/zmq/sugar/socket.py\u001b[0m in \u001b[0;36mrecv_multipart\u001b[0;34m(self, flags, copy, track)\u001b[0m\n\u001b[1;32m    624\u001b[0m         \"\"\"\n\u001b[0;32m--> 625\u001b[0;31m         \u001b[0mparts\u001b[0m \u001b[0;34m=\u001b[0m \u001b[0;34m[\u001b[0m\u001b[0mself\u001b[0m\u001b[0;34m.\u001b[0m\u001b[0mrecv\u001b[0m\u001b[0;34m(\u001b[0m\u001b[0mflags\u001b[0m\u001b[0;34m,\u001b[0m \u001b[0mcopy\u001b[0m\u001b[0;34m=\u001b[0m\u001b[0mcopy\u001b[0m\u001b[0;34m,\u001b[0m \u001b[0mtrack\u001b[0m\u001b[0;34m=\u001b[0m\u001b[0mtrack\u001b[0m\u001b[0;34m)\u001b[0m\u001b[0;34m]\u001b[0m\u001b[0;34m\u001b[0m\u001b[0;34m\u001b[0m\u001b[0m\n\u001b[0m\u001b[1;32m    626\u001b[0m         \u001b[0;31m# have first part already, only loop while more to receive\u001b[0m\u001b[0;34m\u001b[0m\u001b[0;34m\u001b[0m\u001b[0;34m\u001b[0m\u001b[0m\n",
            "\u001b[0;32mzmq/backend/cython/socket.pyx\u001b[0m in \u001b[0;36mzmq.backend.cython.socket.Socket.recv\u001b[0;34m()\u001b[0m\n",
            "\u001b[0;32mzmq/backend/cython/socket.pyx\u001b[0m in \u001b[0;36mzmq.backend.cython.socket.Socket.recv\u001b[0;34m()\u001b[0m\n",
            "\u001b[0;32mzmq/backend/cython/socket.pyx\u001b[0m in \u001b[0;36mzmq.backend.cython.socket._recv_copy\u001b[0;34m()\u001b[0m\n",
            "\u001b[0;32m/usr/local/lib/python3.7/dist-packages/zmq/backend/cython/checkrc.pxd\u001b[0m in \u001b[0;36mzmq.backend.cython.checkrc._check_rc\u001b[0;34m()\u001b[0m\n",
            "\u001b[0;31mKeyboardInterrupt\u001b[0m: ",
            "\nDuring handling of the above exception, another exception occurred:\n",
            "\u001b[0;31mKeyboardInterrupt\u001b[0m                         Traceback (most recent call last)",
            "\u001b[0;32m<ipython-input-88-de446cd31b6d>\u001b[0m in \u001b[0;36m<module>\u001b[0;34m()\u001b[0m\n\u001b[1;32m      2\u001b[0m \u001b[0;34m\u001b[0m\u001b[0m\n\u001b[1;32m      3\u001b[0m \u001b[0;32mwhile\u001b[0m \u001b[0;32mTrue\u001b[0m\u001b[0;34m:\u001b[0m\u001b[0;34m\u001b[0m\u001b[0;34m\u001b[0m\u001b[0m\n\u001b[0;32m----> 4\u001b[0;31m   \u001b[0mstatement\u001b[0m \u001b[0;34m=\u001b[0m \u001b[0minput\u001b[0m\u001b[0;34m(\u001b[0m\u001b[0;34m\"\"\u001b[0m\u001b[0;34m)\u001b[0m\u001b[0;34m\u001b[0m\u001b[0;34m\u001b[0m\u001b[0m\n\u001b[0m\u001b[1;32m      5\u001b[0m   \u001b[0meliza_answer\u001b[0m\u001b[0;34m,\u001b[0m \u001b[0mlivello_della_conversazione\u001b[0m \u001b[0;34m=\u001b[0m \u001b[0mEliza_chatbot\u001b[0m\u001b[0;34m(\u001b[0m\u001b[0mstatement\u001b[0m\u001b[0;34m,\u001b[0m \u001b[0mlivello_della_conversazione\u001b[0m\u001b[0;34m)\u001b[0m\u001b[0;34m\u001b[0m\u001b[0;34m\u001b[0m\u001b[0m\n\u001b[1;32m      6\u001b[0m   \u001b[0mprint\u001b[0m\u001b[0;34m(\u001b[0m\u001b[0meliza_answer\u001b[0m\u001b[0;34m)\u001b[0m\u001b[0;34m\u001b[0m\u001b[0;34m\u001b[0m\u001b[0m\n",
            "\u001b[0;32m/usr/local/lib/python3.7/dist-packages/ipykernel/kernelbase.py\u001b[0m in \u001b[0;36mraw_input\u001b[0;34m(self, prompt)\u001b[0m\n\u001b[1;32m    702\u001b[0m             \u001b[0mself\u001b[0m\u001b[0;34m.\u001b[0m\u001b[0m_parent_ident\u001b[0m\u001b[0;34m,\u001b[0m\u001b[0;34m\u001b[0m\u001b[0;34m\u001b[0m\u001b[0m\n\u001b[1;32m    703\u001b[0m             \u001b[0mself\u001b[0m\u001b[0;34m.\u001b[0m\u001b[0m_parent_header\u001b[0m\u001b[0;34m,\u001b[0m\u001b[0;34m\u001b[0m\u001b[0;34m\u001b[0m\u001b[0m\n\u001b[0;32m--> 704\u001b[0;31m             \u001b[0mpassword\u001b[0m\u001b[0;34m=\u001b[0m\u001b[0;32mFalse\u001b[0m\u001b[0;34m,\u001b[0m\u001b[0;34m\u001b[0m\u001b[0;34m\u001b[0m\u001b[0m\n\u001b[0m\u001b[1;32m    705\u001b[0m         )\n\u001b[1;32m    706\u001b[0m \u001b[0;34m\u001b[0m\u001b[0m\n",
            "\u001b[0;32m/usr/local/lib/python3.7/dist-packages/ipykernel/kernelbase.py\u001b[0m in \u001b[0;36m_input_request\u001b[0;34m(self, prompt, ident, parent, password)\u001b[0m\n\u001b[1;32m    732\u001b[0m             \u001b[0;32mexcept\u001b[0m \u001b[0mKeyboardInterrupt\u001b[0m\u001b[0;34m:\u001b[0m\u001b[0;34m\u001b[0m\u001b[0;34m\u001b[0m\u001b[0m\n\u001b[1;32m    733\u001b[0m                 \u001b[0;31m# re-raise KeyboardInterrupt, to truncate traceback\u001b[0m\u001b[0;34m\u001b[0m\u001b[0;34m\u001b[0m\u001b[0;34m\u001b[0m\u001b[0m\n\u001b[0;32m--> 734\u001b[0;31m                 \u001b[0;32mraise\u001b[0m \u001b[0mKeyboardInterrupt\u001b[0m\u001b[0;34m\u001b[0m\u001b[0;34m\u001b[0m\u001b[0m\n\u001b[0m\u001b[1;32m    735\u001b[0m             \u001b[0;32melse\u001b[0m\u001b[0;34m:\u001b[0m\u001b[0;34m\u001b[0m\u001b[0;34m\u001b[0m\u001b[0m\n\u001b[1;32m    736\u001b[0m                 \u001b[0;32mbreak\u001b[0m\u001b[0;34m\u001b[0m\u001b[0;34m\u001b[0m\u001b[0m\n",
            "\u001b[0;31mKeyboardInterrupt\u001b[0m: "
          ]
        }
      ]
    }
  ]
}